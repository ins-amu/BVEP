{
 "cells": [
  {
   "cell_type": "markdown",
   "metadata": {},
   "source": [
    "# Simulated base inference of SEEG signals using 2D VEP model"
   ]
  },
  {
   "cell_type": "code",
   "execution_count": null,
   "metadata": {
    "collapsed": true
   },
   "outputs": [],
   "source": [
    "import os\n",
    "import sys\n",
    "import time\n",
    "import errno\n",
    "import time\n",
    "import timeit\n",
    "\n",
    "\n",
    "import numpy as np\n",
    "import scipy as scp\n",
    "\n",
    "\n",
    "import numba\n",
    "from numba import jit\n",
    "\n",
    "import matplotlib.pyplot as plt\n",
    "from matplotlib import colors, cm"
   ]
  },
  {
   "cell_type": "code",
   "execution_count": null,
   "metadata": {
    "collapsed": true
   },
   "outputs": [],
   "source": [
    "import torch\n",
    "import sbi \n",
    "\n",
    "import sbi.inference\n",
    "from sbi.inference.base import infer\n",
    "\n",
    "from sbi.simulators import linear_gaussian\n",
    "\n",
    "from sbi.inference import SNPE, SNLE, SNRE, infer, prepare_for_sbi ,simulate_for_sbi\n",
    "from sbi.inference.posteriors.base_posterior import NeuralPosterior\n",
    "\n",
    "import sbi.utils as utils\n",
    "from sbi.utils.get_nn_models import posterior_nn\n",
    "from sbi.analysis import ActiveSubspace, pairplot"
   ]
  },
  {
   "cell_type": "code",
   "execution_count": null,
   "metadata": {
    "collapsed": true
   },
   "outputs": [],
   "source": [
    "from typing import Any, Callable, Dict, List, Optional, Tuple, Union, cast"
   ]
  },
  {
   "cell_type": "code",
   "execution_count": null,
   "metadata": {
    "collapsed": true
   },
   "outputs": [],
   "source": [
    "from sklearn.metrics import confusion_matrix\n",
    "from BVEP_SME import SME_labels, SEM_violinplot, plot_confusion_matrix, plot_zscore_shrinkage, plot_roc_curve, true_node_binary, estimated_node_binary, SME_accuracy"
   ]
  },
  {
   "cell_type": "code",
   "execution_count": null,
   "metadata": {
    "collapsed": true
   },
   "outputs": [],
   "source": [
    "from report_metrics import LSE, Err, RMSE, LSE_obs, z_score, shrinkage"
   ]
  },
  {
   "cell_type": "code",
   "execution_count": null,
   "metadata": {
    "collapsed": true
   },
   "outputs": [],
   "source": [
    "import warnings\n",
    "warnings.simplefilter(\"ignore\")"
   ]
  },
  {
   "cell_type": "code",
   "execution_count": null,
   "metadata": {},
   "outputs": [],
   "source": [
    "%pylab inline\n",
    "#%matplotlib notebook"
   ]
  },
  {
   "cell_type": "code",
   "execution_count": null,
   "metadata": {},
   "outputs": [],
   "source": [
    "print('Running on numpy: v{}'.format(np.version.version))\n",
    "print('Running on torch: v{}'.format(torch.__version__))\n",
    "print('Running on sbi: v{}'.format(sbi.__version__))"
   ]
  },
  {
   "cell_type": "code",
   "execution_count": null,
   "metadata": {},
   "outputs": [],
   "source": [
    "cwd = os.getcwd()\n",
    "cwd"
   ]
  },
  {
   "cell_type": "code",
   "execution_count": null,
   "metadata": {
    "collapsed": true
   },
   "outputs": [],
   "source": [
    "Res_dir='Res_BVEP_sde_sbi_nsf_seeg_GrExp_patient1_v18'"
   ]
  },
  {
   "cell_type": "markdown",
   "metadata": {},
   "source": [
    "### Constants"
   ]
  },
  {
   "cell_type": "code",
   "execution_count": null,
   "metadata": {
    "collapsed": true
   },
   "outputs": [],
   "source": [
    "I1=3.1\n",
    "eta_c=-2.05        \n",
    "delta_eta=1.0                  \n",
    "prior_std =1.0\n",
    "sd_thr=0.8"
   ]
  },
  {
   "cell_type": "markdown",
   "metadata": {},
   "source": [
    "# Patient CJ"
   ]
  },
  {
   "cell_type": "code",
   "execution_count": null,
   "metadata": {},
   "outputs": [],
   "source": [
    "cwd = os.getcwd()\n",
    "cwd"
   ]
  },
  {
   "cell_type": "markdown",
   "metadata": {},
   "source": [
    "## Structural Connectivity and Gain Matrices"
   ]
  },
  {
   "cell_type": "code",
   "execution_count": null,
   "metadata": {
    "collapsed": true
   },
   "outputs": [],
   "source": [
    "weights = np.loadtxt(os.path.join(cwd+\"/ExperimentalData_CJ\", \"weights.txt\"))"
   ]
  },
  {
   "cell_type": "code",
   "execution_count": null,
   "metadata": {
    "collapsed": true
   },
   "outputs": [],
   "source": [
    "# normalize Connectome\n",
    "weights = weights/np.max(weights)\n",
    "num_regions = len(weights)"
   ]
  },
  {
   "cell_type": "code",
   "execution_count": null,
   "metadata": {},
   "outputs": [],
   "source": [
    "weights.min(), weights.max()"
   ]
  },
  {
   "cell_type": "code",
   "execution_count": null,
   "metadata": {
    "collapsed": true
   },
   "outputs": [],
   "source": [
    "Gr = np.loadtxt(os.path.join(cwd+\"/ExperimentalData_CJ\", \"gain_inv-square.txt\"))"
   ]
  },
  {
   "cell_type": "code",
   "execution_count": null,
   "metadata": {},
   "outputs": [],
   "source": [
    "plt.figure(figsize=(14, 8))\n",
    "plt.subplot(121)\n",
    "norm = colors.LogNorm(1e-7, weights.max())\n",
    "im = plt.imshow(weights,norm=norm,cmap=cm.jet)\n",
    "plt.colorbar(im, fraction=0.046, pad=0.04)\n",
    "plt.gca().set_title('Strcutural Connectivity', fontsize=24.0)\n",
    "plt.ylabel('#Regions', fontsize=22.0)\n",
    "plt.xlabel('#Regions', fontsize=22.0)\n",
    "\n",
    "plt.subplot(122)\n",
    "norm = colors.LogNorm(Gr.min(), Gr.max())\n",
    "im = plt.imshow(Gr.transpose(),norm=norm,cmap=cm.jet)\n",
    "plt.colorbar(im, fraction=0.02, pad=0.06)\n",
    "plt.gca().set_title('Gain Matrix', fontsize=24.0)\n",
    "plt.xticks(fontsize=16, rotation=0)\n",
    "plt.yticks(fontsize=16, rotation=0)\n",
    "plt.ylabel('#Regions', fontsize=22.0)\n",
    "plt.xlabel('#Sensors', fontsize=22.0)\n",
    "plt.tight_layout()\n",
    "plt.savefig(os.path.join(cwd+'/'+str(Res_dir),\"SC_GainMatrix.png\"), dpi=800)\n",
    "plt.savefig(os.path.join(cwd+'/'+str(Res_dir),\"SC_GainMatrix.svg\"), dpi=800)\n",
    "plt.show()"
   ]
  },
  {
   "cell_type": "markdown",
   "metadata": {},
   "source": [
    "## ROIs chosen as Epileptogenic/propagation zones"
   ]
  },
  {
   "cell_type": "code",
   "execution_count": null,
   "metadata": {
    "collapsed": true
   },
   "outputs": [],
   "source": [
    "hz_val=-3.65\n",
    "pz_val=-2.4\n",
    "ez_val=-1.6\n",
    "\n",
    "ez_idx = np.array([6, 34],  dtype=np.int32)\n",
    "pz_wplng_idx = np.array([5,11], dtype=np.int32)\n",
    "pz_kplng_idx = np.array([27], dtype=np.int32)\n",
    "pz_idx = np.append(pz_kplng_idx, pz_wplng_idx)"
   ]
  },
  {
   "cell_type": "code",
   "execution_count": null,
   "metadata": {
    "collapsed": true
   },
   "outputs": [],
   "source": [
    "#Here, confidential medical information\n",
    "weights[np.ix_(pz_kplng_idx, ez_idx)] = 4.0\n",
    "weights[np.ix_(pz_wplng_idx, ez_idx)] = 1.0\n",
    "\n",
    "weights[np.diag_indices(weights.shape[0])] = 0"
   ]
  },
  {
   "cell_type": "code",
   "execution_count": null,
   "metadata": {},
   "outputs": [],
   "source": [
    "SC=weights\n",
    "SC.shape"
   ]
  },
  {
   "cell_type": "markdown",
   "metadata": {},
   "source": [
    "### Selected nodes and contacts"
   ]
  },
  {
   "cell_type": "code",
   "execution_count": null,
   "metadata": {
    "collapsed": true
   },
   "outputs": [],
   "source": [
    "contacts = []\n",
    "with open(cwd+ '/ExperimentalData_CJ/complex_raw.ades', 'r') as fd:\n",
    "    for line in fd.readlines():\n",
    "        parts = [p.strip() for p in line.strip().split('=')]\n",
    "        if len(parts)>1 and parts[1] == 'SEEG':\n",
    "            name, idx = re.match(\"([A-Z]+[a-z]*[']*)([0-9]+)\", parts[0]).groups()\n",
    "            idx = int(idx)\n",
    "            contacts.append((name, idx)) "
   ]
  },
  {
   "cell_type": "code",
   "execution_count": null,
   "metadata": {
    "collapsed": true
   },
   "outputs": [],
   "source": [
    "reg_xyz = np.loadtxt(cwd+ '/ExperimentalData_CJ/centers.txt', usecols=(1,2,3))\n",
    "\n",
    "reg_names = []\n",
    "with open(cwd+ '/ExperimentalData_CJ/centers.txt', 'r') as fd:\n",
    "    #for line in fd.readlines():\n",
    "     #   reg_names.append(line.strip().split()[0])\n",
    "    for i, line in enumerate(fd.readlines()):\n",
    "        reg_names.append('r%03d-%s' % (i, line.strip().split()[0]))\n",
    "#seg = nibabel.load('aparcaseg_2_diff_2.nii.gz')\n",
    "#reg_xyz = seg.affine.dot(c_[reg_xyz, ones((reg_xyz.shape[0], ))].T)[:3].T"
   ]
  },
  {
   "cell_type": "code",
   "execution_count": null,
   "metadata": {
    "collapsed": true
   },
   "outputs": [],
   "source": [
    "seeg_xyz = np.loadtxt(cwd+ '/ExperimentalData_CJ/elecs_name.txt', usecols=(1,2,3))\n",
    "\n",
    "seeg_labels = []\n",
    "\n",
    "with open(cwd+ '/ExperimentalData_CJ/elecs_name.txt', 'r') as fd:\n",
    "    for line in fd.readlines():\n",
    "        parts = line.strip().split()\n",
    "        seeg_labels.append(parts[0].upper())\n",
    "#print sorted(seeg_labels+[e+str(i) for e, i in contacts])\n",
    "monopolar_chan_to_pos = []\n",
    "for name, idx in contacts:\n",
    "    monopolar_chan_to_pos.append(seeg_labels.index(name+str(idx)))\n",
    "seeg_xyz = np.array([seeg_xyz[i] for i in monopolar_chan_to_pos])"
   ]
  },
  {
   "cell_type": "code",
   "execution_count": null,
   "metadata": {},
   "outputs": [],
   "source": [
    "ez_idx, pz_idx"
   ]
  },
  {
   "cell_type": "code",
   "execution_count": null,
   "metadata": {
    "collapsed": true
   },
   "outputs": [],
   "source": [
    "selectednodes=np.array([ 5,  6,  11,  27, 34])\n",
    "r_selectednodes=reg_xyz[selectednodes]\n",
    "\n",
    "Ps=np.array([] ) \n",
    "\n",
    "selectedcontacts=[bipnames[c] for c in Ps]\n",
    "\n",
    "ss=[]\n",
    "sss=[]\n",
    "for s in selectedcontacts:\n",
    "    parts = s.strip().split('-')\n",
    "    name, idx=re.match(\"([A-Za-z]+[']*)([0-9]+)\", s).groups()\n",
    "    idx = int(idx)\n",
    "    #sss.append((name, idx))\n",
    "    ss.append(parts[0].upper())\n",
    "    \n",
    "    \n",
    "selectedcontacts_indices=[contacts_labels.index(c) for c in ss] \n",
    "r_selectedcontacts=seeg_xyz[selectedcontacts_indices]\n"
   ]
  },
  {
   "cell_type": "code",
   "execution_count": null,
   "metadata": {
    "collapsed": true
   },
   "outputs": [],
   "source": [
    "def plot_selected_nodes():\n",
    "    x, y, z = zip(reg_xyz.T, seeg_xyz.T)\n",
    "    for i, ((ra, sa), (rb, sb)) in enumerate([(x, y), (y, z), (z, x)]):\n",
    "        plt.subplot(1, 3, i + 1)\n",
    "        plt.scatter(ra, rb, color='k', s=50)\n",
    "        plt.scatter(sa, sb ,color='b',marker='^', s=5 )\n",
    "    x, y, z = zip(r_selectednodes.T, r_selectedcontacts.T)\n",
    "    for i, ((ra, sa), (rb, sb)) in enumerate([(x, y), (y, z), (z, x)]):\n",
    "        plt.subplot(1, 3, i + 1)\n",
    "        plt.scatter(ra, rb,color='r', s=50)\n",
    "        plt.scatter(sa, sb, color='r',marker='^', s=20)\n",
    "        plt.axis([-120, 100, -120, 100])\n",
    "        #xticks([]), yticks([])"
   ]
  },
  {
   "cell_type": "code",
   "execution_count": null,
   "metadata": {},
   "outputs": [],
   "source": [
    "plt.figure(figsize=(14, 4))\n",
    "plot_selected_nodes()\n",
    "plt.tight_layout()\n",
    "plt.savefig(os.path.join(cwd+'/'+str(Res_dir),\"SelectedNodesandElectrodes.png\"), dpi=800)\n",
    "plt.savefig(os.path.join(cwd+'/'+str(Res_dir),\"SelectedNodesandElectrodes.svg\"), dpi=800)\n",
    "plt.show()"
   ]
  },
  {
   "cell_type": "code",
   "execution_count": null,
   "metadata": {},
   "outputs": [],
   "source": [
    "nn=reg_xyz.shape[0]\n",
    "ns=seeg_xyz.shape[0]\n",
    "\n",
    "nn, ns"
   ]
  },
  {
   "cell_type": "code",
   "execution_count": null,
   "metadata": {
    "collapsed": true
   },
   "outputs": [],
   "source": [
    "dst=np.zeros((nn, ns))"
   ]
  },
  {
   "cell_type": "code",
   "execution_count": null,
   "metadata": {
    "collapsed": true
   },
   "outputs": [],
   "source": [
    "from scipy.spatial import distance\n",
    "for i in range(0, nn):\n",
    "    for j in range(0, ns):\n",
    "        dst[i,j] = distance.euclidean(reg_xyz[i,: ], seeg_xyz[j,: ])"
   ]
  },
  {
   "cell_type": "code",
   "execution_count": null,
   "metadata": {
    "collapsed": true
   },
   "outputs": [],
   "source": [
    "dist_best=np.min(dst, axis=1)"
   ]
  },
  {
   "cell_type": "code",
   "execution_count": null,
   "metadata": {},
   "outputs": [],
   "source": [
    "dist_best.shape"
   ]
  },
  {
   "cell_type": "code",
   "execution_count": null,
   "metadata": {},
   "outputs": [],
   "source": [
    "plt.figure(figsize=(15, 4))\n",
    "plt.bar(np.r_[0:nn], dist_best)\n",
    "plt.ylabel('Min distance',fontsize=22)\n",
    "plt.xlabel('Brain Regions',fontsize=22)\n",
    "plt.xticks(np.arange(0,nn+1, step=4), np.arange(1,nn+2, step=4),fontsize=18, rotation=0)\n",
    "plt.yticks(fontsize=16, rotation=0)\n",
    "plt.tight_layout()\n",
    "plt.savefig(os.path.join(cwd+'/'+str(Res_dir),\"NodesDistances.png\"), dpi=800)\n",
    "plt.savefig(os.path.join(cwd+'/'+str(Res_dir),\"NodesDistances.svg\"), dpi=800)\n",
    "plt.show()"
   ]
  },
  {
   "cell_type": "code",
   "execution_count": null,
   "metadata": {
    "collapsed": true
   },
   "outputs": [],
   "source": [
    "elecnames=[]\n",
    "electrodes = {}  \n",
    "with open(cwd+ '/ExperimentalData_CJ/elecs_name.txt', 'r') as fd:\n",
    "            for i, line in enumerate(fd.readlines()):\n",
    "                line = line.strip()\n",
    "                contact, x, y, z = line.split()\n",
    "                elecnames.append(contact)\n",
    "                name, _ = re.match(\"([A-Za-z]+[']*)([0-9]+)\", contact).groups()\n",
    "                if name in electrodes:\n",
    "                    electrodes[name].append(i)\n",
    "                else:\n",
    "                    electrodes[name] = [i]"
   ]
  },
  {
   "cell_type": "code",
   "execution_count": null,
   "metadata": {
    "collapsed": true
   },
   "outputs": [],
   "source": [
    "from mpl_toolkits.mplot3d import axes3d, Axes3D"
   ]
  },
  {
   "cell_type": "code",
   "execution_count": null,
   "metadata": {},
   "outputs": [],
   "source": [
    "fig = plt.figure(figsize=(12, 12))\n",
    "ax = fig.add_subplot(111, projection='3d')\n",
    "\n",
    "ax.scatter(reg_xyz [:, 0], reg_xyz [:, 1], reg_xyz [:, 2], color='k', s=2000./dist_best,  label='regions')\n",
    "ax.scatter(r_selectednodes [:, 0], r_selectednodes [:, 1], r_selectednodes [:, 2], color='r', s=1000, label='selectedregions')\n",
    "ax.scatter(r_selectedcontacts [:, 0], r_selectedcontacts [:, 1], r_selectedcontacts [:, 2], color='cyan',marker='^', s=300, label='selectecontacts')\n",
    "\n",
    "\n",
    "for name, idxs in electrodes.items():\n",
    "    ax.scatter(seeg_xyz [idxs, 0], seeg_xyz [idxs, 1], seeg_xyz [idxs, 2],marker='^', color='b', s=100, label=name)\n",
    "    \n",
    "\n",
    "#plt.legend()\n",
    "plt.tight_layout()\n",
    "plt.savefig(os.path.join(cwd+'/'+str(Res_dir),\"SelectedNodesandElectrodes3D.png\"), dpi=800)\n",
    "#ax.view_init(-390, 30)\n",
    "\n",
    "plt.show()    "
   ]
  },
  {
   "cell_type": "markdown",
   "metadata": {},
   "source": [
    "### Simulator"
   ]
  },
  {
   "cell_type": "code",
   "execution_count": null,
   "metadata": {
    "collapsed": true
   },
   "outputs": [],
   "source": [
    "from BVEP_Simulator import VEP2Dmodel"
   ]
  },
  {
   "cell_type": "markdown",
   "metadata": {},
   "source": [
    "### some simulations for  sanity check"
   ]
  },
  {
   "cell_type": "code",
   "execution_count": null,
   "metadata": {
    "collapsed": true
   },
   "outputs": [],
   "source": [
    "T = 14.0\n",
    "dt=0.1\n",
    "ts = np.arange(0, T + dt, dt)"
   ]
  },
  {
   "cell_type": "code",
   "execution_count": null,
   "metadata": {},
   "outputs": [],
   "source": [
    "nt=ts.shape[0]\n",
    "nt"
   ]
  },
  {
   "cell_type": "code",
   "execution_count": null,
   "metadata": {},
   "outputs": [],
   "source": [
    "nn=SC.shape[0]\n",
    "nn"
   ]
  },
  {
   "cell_type": "code",
   "execution_count": null,
   "metadata": {},
   "outputs": [],
   "source": [
    "Gr.shape"
   ]
  },
  {
   "cell_type": "code",
   "execution_count": null,
   "metadata": {},
   "outputs": [],
   "source": [
    "ns=Gr.shape[0]\n",
    "ns"
   ]
  },
  {
   "cell_type": "code",
   "execution_count": null,
   "metadata": {},
   "outputs": [],
   "source": [
    "tau=10.\n",
    "sigma=10e-1\n",
    "constants = np.array([tau, sigma])\n",
    "constants"
   ]
  },
  {
   "cell_type": "code",
   "execution_count": null,
   "metadata": {
    "collapsed": true
   },
   "outputs": [],
   "source": [
    "eta_true = np.ones(nn)*hz_val\n",
    "eta_true[ez_idx] = ez_val\n",
    "eta_true[pz_idx] = pz_val"
   ]
  },
  {
   "cell_type": "code",
   "execution_count": null,
   "metadata": {
    "collapsed": true
   },
   "outputs": [],
   "source": [
    "K_true=1."
   ]
  },
  {
   "cell_type": "code",
   "execution_count": null,
   "metadata": {
    "collapsed": true
   },
   "outputs": [],
   "source": [
    "x_init=-2.5\n",
    "z_init=3.5\n",
    "init_conditions = np.array([x_init, z_init])"
   ]
  },
  {
   "cell_type": "code",
   "execution_count": null,
   "metadata": {},
   "outputs": [],
   "source": [
    "params_true = np.append(eta_true, K_true)\n",
    "params_true.shape"
   ]
  },
  {
   "cell_type": "code",
   "execution_count": null,
   "metadata": {},
   "outputs": [],
   "source": [
    "start_time = time.time()\n",
    "Sim = VEP2Dmodel(params_true, constants, init_conditions, dt, ts, SC)\n",
    "print(\" single sim (sec) takes:\" , (time.time() - start_time))"
   ]
  },
  {
   "cell_type": "code",
   "execution_count": null,
   "metadata": {},
   "outputs": [],
   "source": [
    "start_time = time.time()\n",
    "Sim = VEP2Dmodel(params_true, constants, init_conditions, dt, ts, SC)\n",
    "print(\" single sim (sec) takes:\" , (time.time() - start_time))"
   ]
  },
  {
   "cell_type": "code",
   "execution_count": null,
   "metadata": {},
   "outputs": [],
   "source": [
    "X=Sim.reshape(nn, int(Sim.shape[0]/nn))\n",
    "X.shape"
   ]
  },
  {
   "cell_type": "code",
   "execution_count": null,
   "metadata": {},
   "outputs": [],
   "source": [
    "plt.figure(figsize=(10,16))\n",
    "for i in range(0, nn):\n",
    "    if i in ez_idx:\n",
    "          plt.plot(X[i,:]+i, 'r', lw=3)\n",
    "    elif i in pz_idx:\n",
    "          plt.plot(X[i,:]+i, 'y', lw=3)\n",
    "    else:  \n",
    "          plt.plot(X[i,:]+i, 'g')\n",
    "plt.yticks(np.r_[0:nn]-2, np.r_[0:nn],fontsize=10)\n",
    "plt.xticks(fontsize=16)\n",
    "plt.title(\"Source brain activity\",fontsize=18)\n",
    "plt.xlabel('Time',fontsize=22)\n",
    "plt.ylabel('Brain Regions#',fontsize=22)\n",
    "plt.show()"
   ]
  },
  {
   "cell_type": "markdown",
   "metadata": {},
   "source": [
    "### Seeg signal"
   ]
  },
  {
   "cell_type": "code",
   "execution_count": null,
   "metadata": {},
   "outputs": [],
   "source": [
    "X.shape, Gr.shape"
   ]
  },
  {
   "cell_type": "code",
   "execution_count": null,
   "metadata": {},
   "outputs": [],
   "source": [
    "Seeg= np.dot(Gr, np.exp(X))\n",
    "Seeg.shape"
   ]
  },
  {
   "cell_type": "code",
   "execution_count": null,
   "metadata": {},
   "outputs": [],
   "source": [
    "plt.figure(figsize=(8,4))\n",
    "plt.plot(Seeg.T);\n",
    "plt.xlabel('Time',fontsize=18)\n",
    "plt.ylabel('SEEG',fontsize=18)\n",
    "plt.xticks(fontsize=18)\n",
    "plt.yticks(fontsize=18)\n",
    "plt.title(\"SEEG=np.dot(Gr, exp(X))\",fontsize=18)\n",
    "plt.show()"
   ]
  },
  {
   "cell_type": "markdown",
   "metadata": {},
   "source": [
    "### Seeg features"
   ]
  },
  {
   "cell_type": "code",
   "execution_count": null,
   "metadata": {},
   "outputs": [],
   "source": [
    "Seeg.shape, Gr.shape"
   ]
  },
  {
   "cell_type": "code",
   "execution_count": null,
   "metadata": {},
   "outputs": [],
   "source": [
    "Seeg_area = np.trapz(Seeg, dx=0.0001)\n",
    "Seeg_area.shape"
   ]
  },
  {
   "cell_type": "code",
   "execution_count": null,
   "metadata": {},
   "outputs": [],
   "source": [
    "plt.figure(figsize=(18, 4))\n",
    "plt.bar(np.arange(1,Seeg_area.shape[0]+1), Seeg_area, color='black', alpha=0.3);\n",
    "plt.xlabel('Brain regions', fontsize=22)\n",
    "plt.ylabel('Seeg envelope power', fontsize=22)\n",
    "plt.yticks(fontsize=18, rotation=0)\n",
    "plt.xticks(fontsize=18, rotation=0)\n",
    "plt.tight_layout()\n",
    "plt.savefig(os.path.join(cwd+'/'+str(Res_dir),\"SEEG_envelop_power.png\"), dpi=800)\n",
    "plt.savefig(os.path.join(cwd+'/'+str(Res_dir),\"SEEG_envelop_power.svg\"), dpi=800)\n",
    "plt.show()"
   ]
  },
  {
   "cell_type": "code",
   "execution_count": null,
   "metadata": {
    "collapsed": true
   },
   "outputs": [],
   "source": [
    "Seeg_pwr = np.sum((Seeg*Seeg), axis=1)\n",
    "Seeg_pwr_n = (Seeg_pwr/ Seeg_pwr.max())"
   ]
  },
  {
   "cell_type": "code",
   "execution_count": null,
   "metadata": {},
   "outputs": [],
   "source": [
    "plt.figure(figsize=(18, 4))\n",
    "plt.bar(np.arange(1,Seeg_pwr.shape[0]+1), Seeg_pwr_n, color='black', alpha=0.3);\n",
    "plt.xlabel('Brain regions', fontsize=24)\n",
    "plt.ylabel('Seeg power', fontsize=24)\n",
    "plt.yticks(fontsize=18, rotation=0)\n",
    "plt.xticks(fontsize=18, rotation=0)\n",
    "plt.tight_layout()\n",
    "plt.savefig(os.path.join(cwd+'/'+str(Res_dir),\"SEEG_envelop_power_normalize.png\"), dpi=800)\n",
    "plt.savefig(os.path.join(cwd+'/'+str(Res_dir),\"SEEG_envelop_power_normalize.svg\"), dpi=800)\n",
    "plt.show()"
   ]
  },
  {
   "cell_type": "code",
   "execution_count": null,
   "metadata": {},
   "outputs": [],
   "source": [
    "plt.figure(figsize=(12,8))\n",
    "plt.subplot(211)\n",
    "plt.plot(Seeg.T, linewidth=4, alpha=0.2);\n",
    "plt.xlabel('Time', fontsize=22)\n",
    "plt.ylabel('SEEG signals', fontsize=22)\n",
    "plt.yticks(fontsize=18, rotation=0)\n",
    "plt.xticks(fontsize=18, rotation=0)\n",
    "\n",
    "plt.subplot(212)\n",
    "plt.bar(np.arange(1,Seeg_pwr_n.shape[0]+1), Seeg_pwr_n, color='r', alpha=0.2)\n",
    "#plt.bar(np.arange(1,Seeg_area.shape[0]+1), Seeg_area, color='black', alpha=0.3);\n",
    "plt.xlabel('Brain regions', fontsize=22)\n",
    "plt.ylabel('SEEG envelop power', fontsize=22)\n",
    "plt.yticks(fontsize=18, rotation=0)\n",
    "plt.xticks(fontsize=18, rotation=0)\n",
    "plt.tight_layout()\n",
    "plt.show()"
   ]
  },
  {
   "cell_type": "code",
   "execution_count": null,
   "metadata": {
    "collapsed": true
   },
   "outputs": [],
   "source": [
    "from BVEP_stat_summary import calculate_summary_statistics"
   ]
  },
  {
   "cell_type": "code",
   "execution_count": null,
   "metadata": {
    "collapsed": true
   },
   "outputs": [],
   "source": [
    "calculate_summary_statistics = numba.jit(calculate_summary_statistics)"
   ]
  },
  {
   "cell_type": "code",
   "execution_count": null,
   "metadata": {},
   "outputs": [],
   "source": [
    "nn, ns, nt"
   ]
  },
  {
   "cell_type": "code",
   "execution_count": null,
   "metadata": {},
   "outputs": [],
   "source": [
    "_=calculate_summary_statistics(Seeg.reshape(-1), nn, ns, nt)\n",
    "num_features=_.shape[0]\n",
    "print('feature shape:', num_features)"
   ]
  },
  {
   "cell_type": "code",
   "execution_count": null,
   "metadata": {},
   "outputs": [],
   "source": [
    "num_params=nn+1\n",
    "num_params"
   ]
  },
  {
   "cell_type": "markdown",
   "metadata": {},
   "source": [
    "### 1. Simulator wrapper"
   ]
  },
  {
   "cell_type": "code",
   "execution_count": null,
   "metadata": {
    "collapsed": true
   },
   "outputs": [],
   "source": [
    "def VEP2Dmodel_seeg_simulator_wrapper(params):\n",
    "\n",
    "    params = np.asarray(params)\n",
    "    \n",
    "    # time step\n",
    "    T = 14.0\n",
    "    dt=0.1\n",
    "    ts = np.arange(0, T + dt, dt)\n",
    "\n",
    "    # fixed parameters\n",
    "    tau=10.\n",
    "    sigma=10e-1\n",
    "    constants = np.array([tau, sigma])\n",
    "    \n",
    "    ns=Gr.shape[0]\n",
    "    nn=Gr.shape[1]\n",
    "    nt=ts.shape[0]\n",
    "\n",
    "    # initial conditions\n",
    "    x_init=-2.5\n",
    "    z_init=3.5\n",
    "    init_conditions = np.array([x_init, z_init])\n",
    "    \n",
    "    Sim = VEP2Dmodel(params, constants, init_conditions, dt, ts, SC)\n",
    "\n",
    "    Source_signal=Sim.reshape(nn, int(Sim.shape[0]/nn))\n",
    "\n",
    "    Seeg_signal= np.dot(Gr, np.exp(Source_signal))\n",
    "\n",
    "    #summstats = torch.as_tensor(calculate_summary_statistics(Seeg_signal.reshape(-1), nn, ns, nt))\n",
    "\n",
    "    return Seeg_signal.reshape(-1) "
   ]
  },
  {
   "cell_type": "markdown",
   "metadata": {},
   "source": [
    "### 2. Prior over model parameters"
   ]
  },
  {
   "cell_type": "code",
   "execution_count": null,
   "metadata": {},
   "outputs": [],
   "source": [
    "nn+1"
   ]
  },
  {
   "cell_type": "code",
   "execution_count": null,
   "metadata": {
    "collapsed": true
   },
   "outputs": [],
   "source": [
    "prior_min_eta=-7*np.ones(nn)\n",
    "prior_min_K=0*np.ones(1)\n",
    "\n",
    "prior_max_eta=-1*np.ones(nn)\n",
    "prior_max_K=2*np.ones(1)"
   ]
  },
  {
   "cell_type": "code",
   "execution_count": null,
   "metadata": {
    "collapsed": true
   },
   "outputs": [],
   "source": [
    "prior_min=np.append(prior_min_eta, prior_min_K)\n",
    "prior_max=np.append(prior_max_eta, prior_max_K)"
   ]
  },
  {
   "cell_type": "code",
   "execution_count": null,
   "metadata": {},
   "outputs": [],
   "source": [
    "prior_min.shape, prior_max.shape"
   ]
  },
  {
   "cell_type": "code",
   "execution_count": null,
   "metadata": {
    "collapsed": true
   },
   "outputs": [],
   "source": [
    "prior = utils.torchutils.BoxUniform(low=torch.as_tensor(prior_min), high=torch.as_tensor(prior_max))"
   ]
  },
  {
   "cell_type": "code",
   "execution_count": null,
   "metadata": {},
   "outputs": [],
   "source": [
    "prior.sample().shape, prior.batch_shape, prior.event_shape"
   ]
  },
  {
   "cell_type": "markdown",
   "metadata": {},
   "source": [
    "### 3. Simulation and inference"
   ]
  },
  {
   "cell_type": "code",
   "execution_count": null,
   "metadata": {
    "collapsed": true
   },
   "outputs": [],
   "source": [
    "num_sim=100000"
   ]
  },
  {
   "cell_type": "code",
   "execution_count": null,
   "metadata": {
    "collapsed": true,
    "scrolled": false
   },
   "outputs": [],
   "source": [
    "# start_time = time.time()\n",
    "\n",
    "# posterior = infer(VEP2Dmodel_seeg_simulator_wrapper, prior, method='SNPE',  num_simulations=100000, num_workers=1)\n",
    "\n",
    "# print (\"-\"*60)\n",
    "# print(\"--- %s seconds ---\" % (time.time() - start_time))"
   ]
  },
  {
   "cell_type": "code",
   "execution_count": null,
   "metadata": {},
   "outputs": [],
   "source": [
    "mysavepath = os.path.join(Res_dir, 'output_sim/simulated_theta_x.npz')\n",
    "mysavepath"
   ]
  },
  {
   "cell_type": "code",
   "execution_count": null,
   "metadata": {
    "collapsed": true
   },
   "outputs": [],
   "source": [
    "def save_sims(simulator: Callable, prior, mysavepath, num_simulations: int):\n",
    "\n",
    "    simulator, prior = prepare_for_sbi(simulator, prior)\n",
    "    \n",
    "    theta, x = simulate_for_sbi(\n",
    "        simulator=simulator,\n",
    "        proposal=prior,\n",
    "        num_simulations=num_simulations,\n",
    "        show_progress_bar=True,)\n",
    "    \n",
    "    #print(theta,flush=True)\n",
    "    print( 'theta shape:',theta.shape,flush=True)\n",
    "    #print(x,flush=True)\n",
    "    print('data shape:', x.shape,flush=True)\n",
    "\n",
    "    np.savez(mysavepath,theta=theta,x=x)\n"
   ]
  },
  {
   "cell_type": "code",
   "execution_count": null,
   "metadata": {},
   "outputs": [],
   "source": [
    "start_time = time.time()\n",
    "\n",
    "save_sims(VEP2Dmodel_seeg_simulator_wrapper, prior, mysavepath, num_simulations=1)\n",
    "\n",
    "print (\"-\"*60)\n",
    "print(\"--- one sim took: %s seconds ---\" % (time.time() - start_time))"
   ]
  },
  {
   "cell_type": "code",
   "execution_count": null,
   "metadata": {
    "collapsed": true
   },
   "outputs": [],
   "source": [
    "start_time = time.time()\n",
    "\n",
    "save_sims(VEP2Dmodel_seeg_simulator_wrapper, prior, mysavepath, num_simulations=1)\n",
    "\n",
    "print (\"-\"*60)\n",
    "print(\"--- one sim with JIT took: %s seconds ---\" % (time.time() - start_time))"
   ]
  },
  {
   "cell_type": "code",
   "execution_count": null,
   "metadata": {},
   "outputs": [],
   "source": [
    "start_time = time.time()\n",
    "\n",
    "save_sims(VEP2Dmodel_seeg_simulator_wrapper, prior, mysavepath, num_simulations=num_sim)\n",
    "\n",
    "print (\"-\"*60)\n",
    "print(\"---all simulations took:  %s seconds ---\" % (time.time() - start_time))"
   ]
  },
  {
   "cell_type": "markdown",
   "metadata": {},
   "source": [
    "### Load simulations and calculate features"
   ]
  },
  {
   "cell_type": "code",
   "execution_count": null,
   "metadata": {
    "collapsed": true
   },
   "outputs": [],
   "source": [
    "sim_deja=np.load(mysavepath)"
   ]
  },
  {
   "cell_type": "code",
   "execution_count": null,
   "metadata": {
    "collapsed": true
   },
   "outputs": [],
   "source": [
    "theta_deja=sim_deja['theta']\n",
    "x_deja=sim_deja['x']"
   ]
  },
  {
   "cell_type": "code",
   "execution_count": null,
   "metadata": {},
   "outputs": [],
   "source": [
    "print( 'theta shape:',theta_deja.shape,flush=True)\n",
    "print('data shape:', x_deja.shape,flush=True)"
   ]
  },
  {
   "cell_type": "code",
   "execution_count": null,
   "metadata": {
    "collapsed": true
   },
   "outputs": [],
   "source": [
    "x_deja_features=np.zeros((num_sim,num_features))\n",
    "theta_deja_features=np.zeros((num_sim,num_params))"
   ]
  },
  {
   "cell_type": "code",
   "execution_count": null,
   "metadata": {},
   "outputs": [],
   "source": [
    "print( 'theta shape:',theta_deja_features.shape,flush=True)\n",
    "print('data frature shape:', x_deja_features.shape,flush=True)"
   ]
  },
  {
   "cell_type": "code",
   "execution_count": null,
   "metadata": {
    "collapsed": true
   },
   "outputs": [],
   "source": [
    "theta_deja_features=theta_deja"
   ]
  },
  {
   "cell_type": "code",
   "execution_count": null,
   "metadata": {
    "collapsed": true
   },
   "outputs": [],
   "source": [
    "start_time = time.time()\n",
    "\n",
    "for i in range(num_sim):\n",
    "    x_deja_features[i,:]=calculate_summary_statistics(x_deja[i,:].reshape(-1), nn, ns, nt)\n",
    "    \n",
    "print (\"-\"*60)\n",
    "print(\"--- calculation of features took: %s seconds ---\" % (time.time() - start_time))"
   ]
  },
  {
   "cell_type": "code",
   "execution_count": null,
   "metadata": {},
   "outputs": [],
   "source": [
    "print( 'theta deja shape:',theta_deja_features.shape,flush=True)\n",
    "print('data deja feature shape:', x_deja_features.shape,flush=True)"
   ]
  },
  {
   "cell_type": "code",
   "execution_count": null,
   "metadata": {},
   "outputs": [],
   "source": [
    "np.isnan(np.sum(x_deja_features))"
   ]
  },
  {
   "cell_type": "code",
   "execution_count": null,
   "metadata": {},
   "outputs": [],
   "source": [
    "theta_deja_features.shape, x_deja_features.shape"
   ]
  },
  {
   "cell_type": "code",
   "execution_count": null,
   "metadata": {
    "collapsed": true
   },
   "outputs": [],
   "source": [
    "np.save(os.path.join(Res_dir+ '/output_sim', 'theta_deja_features.npy') , theta_deja_features)\n",
    "np.save(os.path.join(Res_dir+ '/output_sim', 'x_deja_features.npy') , x_deja_features)"
   ]
  },
  {
   "cell_type": "code",
   "execution_count": null,
   "metadata": {
    "collapsed": true
   },
   "outputs": [],
   "source": [
    "x = np.array(x_deja_features, dtype='float32')\n",
    "x     = torch.as_tensor(x)\n",
    "\n",
    "theta = np.array(theta_deja_features, dtype='float32')\n",
    "theta = theta.reshape(theta.shape[0],num_params)\n",
    "theta = torch.as_tensor(theta)"
   ]
  },
  {
   "cell_type": "code",
   "execution_count": null,
   "metadata": {},
   "outputs": [],
   "source": [
    "print( 'theta shape:',theta.shape,flush=True)\n",
    "print('data feature shape:', x.shape,flush=True)"
   ]
  },
  {
   "cell_type": "markdown",
   "metadata": {},
   "source": [
    "### Inference"
   ]
  },
  {
   "cell_type": "code",
   "execution_count": null,
   "metadata": {
    "collapsed": true
   },
   "outputs": [],
   "source": [
    "def myinfer_SNPE(prior, theta, x):\n",
    "    \n",
    "    inference = SNPE(prior, density_estimator='nsf', device='cpu')\n",
    "    _ = inference.append_simulations(theta, x).train()\n",
    "    posterior = inference.build_posterior()\n",
    "\n",
    "    return posterior"
   ]
  },
  {
   "cell_type": "code",
   "execution_count": null,
   "metadata": {
    "scrolled": false
   },
   "outputs": [],
   "source": [
    "start_time = time.time()\n",
    "\n",
    "posterior = myinfer_SNPE(prior, theta, x)\n",
    "\n",
    "print (\"-\"*60)\n",
    "print(\"--- Training neural network took: %s seconds ---\" % (time.time() - start_time))"
   ]
  },
  {
   "cell_type": "markdown",
   "metadata": {},
   "source": [
    "### Data"
   ]
  },
  {
   "cell_type": "code",
   "execution_count": null,
   "metadata": {
    "collapsed": true
   },
   "outputs": [],
   "source": [
    "obs_source =VEP2Dmodel(params_true, constants, init_conditions, dt, ts, SC)\n",
    "obs_source=obs_source.reshape(nn, int(obs_source.shape[0]/nn))\n",
    "\n",
    "obs_seeg= np.dot(Gr, np.exp(obs_source))"
   ]
  },
  {
   "cell_type": "code",
   "execution_count": null,
   "metadata": {
    "collapsed": true
   },
   "outputs": [],
   "source": [
    "obs_summary_statistics=calculate_summary_statistics(obs_seeg.reshape(-1), nn, ns, nt)"
   ]
  },
  {
   "cell_type": "code",
   "execution_count": null,
   "metadata": {},
   "outputs": [],
   "source": [
    "obs_seeg.shape, obs_summary_statistics.shape"
   ]
  },
  {
   "cell_type": "code",
   "execution_count": null,
   "metadata": {},
   "outputs": [],
   "source": [
    "y_obs=obs_seeg\n",
    "y_obs.shape"
   ]
  },
  {
   "cell_type": "code",
   "execution_count": null,
   "metadata": {},
   "outputs": [],
   "source": [
    "plt.figure(figsize=(10,16))\n",
    "for i in range(0, nn):\n",
    "    if i in ez_idx:\n",
    "          plt.plot(obs_source[i,:]+i, 'r', lw=3)\n",
    "    elif i in pz_idx:\n",
    "          plt.plot(obs_source[i,:]+i, 'y', lw=3)\n",
    "    else:  \n",
    "          plt.plot(obs_source[i,:]+i, 'g')\n",
    "plt.yticks(np.r_[0:nn]-2, np.r_[0:nn],fontsize=10)\n",
    "plt.xticks(fontsize=16)\n",
    "plt.title(\"Source brain activity\",fontsize=18)\n",
    "plt.xlabel('Time',fontsize=22)\n",
    "plt.ylabel('Brain Regions#',fontsize=22)\n",
    "plt.savefig(os.path.join(cwd+'/'+str(Res_dir),\"SBI_BVEP_sde_obs_source_K_\"+str(K_true)+\".png\"), dpi=800)\n",
    "plt.savefig(os.path.join(cwd+'/'+str(Res_dir),\"SBI_BVEP_sde_obs_source_K_\"+str(K_true)+\".svg\"), dpi=800)\n",
    "plt.show()"
   ]
  },
  {
   "cell_type": "code",
   "execution_count": null,
   "metadata": {},
   "outputs": [],
   "source": [
    "plt.figure(figsize=(10,6))\n",
    "plt.plot(obs_seeg.T)\n",
    "plt.xlabel('Time', fontsize=22)\n",
    "plt.ylabel('SEEG signals', fontsize=22)\n",
    "plt.yticks(fontsize=18, rotation=0)\n",
    "plt.xticks(fontsize=18, rotation=0)\n",
    "plt.savefig(os.path.join(cwd+'/'+str(Res_dir),\"SBI_BVEP_sde_obs_seeg_K_\"+str(K_true)+\".png\"), dpi=800)\n",
    "plt.savefig(os.path.join(cwd+'/'+str(Res_dir),\"SBI_BVEP_sde_obs_seeg_K_\"+str(K_true)+\".svg\"), dpi=800)\n",
    "plt.tight_layout()\n",
    "plt.show()"
   ]
  },
  {
   "cell_type": "markdown",
   "metadata": {},
   "source": [
    "### Posterior"
   ]
  },
  {
   "cell_type": "code",
   "execution_count": null,
   "metadata": {
    "collapsed": true
   },
   "outputs": [],
   "source": [
    "from sklearn.metrics import confusion_matrix\n",
    "from BVEP_SME import SME_labels, SEM_violinplot, plot_confusion_matrix, plot_zscore_shrinkage, plot_roc_curve, true_node_binary, estimated_node_binary, SME_accuracy"
   ]
  },
  {
   "cell_type": "code",
   "execution_count": null,
   "metadata": {
    "collapsed": true
   },
   "outputs": [],
   "source": [
    "nodes=np.r_[0:nn]"
   ]
  },
  {
   "cell_type": "code",
   "execution_count": null,
   "metadata": {
    "collapsed": true
   },
   "outputs": [],
   "source": [
    "num_samples=200"
   ]
  },
  {
   "cell_type": "code",
   "execution_count": null,
   "metadata": {},
   "outputs": [],
   "source": [
    "start_time = time.time()\n",
    "\n",
    "posterior_samples = posterior.sample((num_samples,), obs_summary_statistics).numpy()\n",
    "\n",
    "print (\"-\"*60)\n",
    "print(\"--- sampling took: %s seconds ---\" % (time.time() - start_time))"
   ]
  },
  {
   "cell_type": "code",
   "execution_count": null,
   "metadata": {},
   "outputs": [],
   "source": [
    "posterior_samples.shape, params_true.shape"
   ]
  },
  {
   "cell_type": "code",
   "execution_count": null,
   "metadata": {
    "collapsed": true
   },
   "outputs": [],
   "source": [
    "np.save(os.path.join(cwd+'/'+str(Res_dir), 'BVEP_sde_sbi_seeg_GrExp_patient1_posteriorsamples.npy') , posterior_samples)"
   ]
  },
  {
   "cell_type": "code",
   "execution_count": null,
   "metadata": {
    "collapsed": true
   },
   "outputs": [],
   "source": [
    "eta_posterior=posterior_samples[:,:-1]\n",
    "K_posterior=posterior_samples[:,-1]"
   ]
  },
  {
   "cell_type": "code",
   "execution_count": null,
   "metadata": {},
   "outputs": [],
   "source": [
    "K_posterior.mean(), K_posterior.std()"
   ]
  },
  {
   "cell_type": "code",
   "execution_count": null,
   "metadata": {
    "collapsed": true
   },
   "outputs": [],
   "source": [
    "eta_c=-1.95\n",
    "delta_eta=1.0              "
   ]
  },
  {
   "cell_type": "code",
   "execution_count": null,
   "metadata": {},
   "outputs": [],
   "source": [
    "plt.figure(figsize=(15,4))\n",
    "SEM_violinplot(nn, eta_true, ez_idx, pz_idx, eta_posterior, eta_c, delta_eta )\n",
    "plt.savefig(os.path.join(cwd+'/'+str(Res_dir),\"SBI_BVEP_sde_InferredExcitability_K_\"+str(K_true)+\".png\"), dpi=800)\n",
    "plt.savefig(os.path.join(cwd+'/'+str(Res_dir),\"SBI_BVEP_sde_InferredExcitability_K_\"+str(K_true)+\".svg\"), dpi=800)\n",
    "plt.show()"
   ]
  },
  {
   "cell_type": "code",
   "execution_count": null,
   "metadata": {},
   "outputs": [],
   "source": [
    "plt.figure(figsize=(4,4))\n",
    "parts= plt.violinplot(K_posterior, widths=0.7, showmeans=True, showextrema=True);\n",
    "plt.plot(1,params_true[-1] ,'o', color='k', alpha=0.9, markersize=8)\n",
    "plt.ylabel(' Posterior ' +r'${(K)}$', fontsize=24);  \n",
    "plt.xlabel(r'${K}$', fontsize=24); \n",
    "plt.yticks(fontsize=16)\n",
    "plt.xticks([])\n",
    "plt.tight_layout()\n",
    "plt.savefig(os.path.join(cwd+'/'+str(Res_dir),\"SBI_BVEP_sde_InferredCoupling_K_\"+str(K_true)+\".png\"), dpi=800)\n",
    "plt.savefig(os.path.join(cwd+'/'+str(Res_dir),\"SBI_BVEP_sde_InferredCoupling_K_\"+str(K_true)+\".svg\"), dpi=800)\n",
    "plt.show()"
   ]
  },
  {
   "cell_type": "code",
   "execution_count": null,
   "metadata": {
    "collapsed": true
   },
   "outputs": [],
   "source": [
    "estimated_posterior=np.percentile(posterior_samples, [50], axis=0).reshape(-1)    "
   ]
  },
  {
   "cell_type": "code",
   "execution_count": null,
   "metadata": {
    "collapsed": true
   },
   "outputs": [],
   "source": [
    "y_fit_source =VEP2Dmodel(estimated_posterior, constants, init_conditions, dt, ts, SC)\n",
    "\n",
    "yfit_source=y_fit_source.reshape(nn, int(y_fit_source.shape[0]/nn))\n",
    "\n",
    "yfit_seeg= np.dot(Gr, np.exp(yfit_source))"
   ]
  },
  {
   "cell_type": "code",
   "execution_count": null,
   "metadata": {},
   "outputs": [],
   "source": [
    "y_fit=yfit_seeg\n",
    "y_fit.shape"
   ]
  },
  {
   "cell_type": "code",
   "execution_count": null,
   "metadata": {
    "collapsed": true
   },
   "outputs": [],
   "source": [
    "np.save(os.path.join(cwd+'/'+str(Res_dir), 'BVEP_sde_sbi_seeg_GrExp_patient1_y_obs.npy') , y_obs)\n",
    "np.save(os.path.join(cwd+'/'+str(Res_dir), 'BVEP_sde_sbi_seeg_GrExp_patient1_y_fit.npy') , y_fit)"
   ]
  },
  {
   "cell_type": "code",
   "execution_count": null,
   "metadata": {},
   "outputs": [],
   "source": [
    "Rois=np.array([1, 6, 34, 50, 90, 100, 120, 130, 150])\n",
    "\n",
    "plt.figure(figsize=(10,4))\n",
    "for roi in Rois:\n",
    "    plt.plot(y_obs.T[:,roi], '.')\n",
    "    plt.plot(y_fit.T[:,roi] )\n",
    "plt.title(\"Observation vs prediction\",fontsize=15)\n",
    "plt.xlabel('Time', fontsize=22)\n",
    "plt.ylabel('SEEG signals', fontsize=22)\n",
    "plt.yticks(fontsize=18, rotation=0)\n",
    "plt.xticks(fontsize=18, rotation=0)\n",
    "plt.show()"
   ]
  },
  {
   "cell_type": "code",
   "execution_count": null,
   "metadata": {},
   "outputs": [],
   "source": [
    "plt.figure(figsize=(12,4))\n",
    "\n",
    "plt.subplot(121);\n",
    "plt.plot(y_obs.T)\n",
    "plt.title(\"Simulated Seeg data\", fontsize=22) \n",
    "plt.xlabel('Time', fontsize=22)\n",
    "plt.ylabel('SEEG', fontsize=22)\n",
    "plt.yticks(fontsize=18, rotation=0)\n",
    "plt.xticks(fontsize=18, rotation=0)\n",
    "\n",
    "plt.subplot(122)\n",
    "plt.plot(y_fit.T)\n",
    "plt.title(\" Predicted Seeg data\", fontsize=22) \n",
    "plt.xlabel('Time', fontsize=22)\n",
    "plt.ylabel('SEEG', fontsize=22)\n",
    "plt.yticks(fontsize=18, rotation=0)\n",
    "plt.xticks(fontsize=18, rotation=0)\n",
    "plt.tight_layout()\n",
    "plt.savefig(os.path.join(cwd+'/'+str(Res_dir),\"SBI_FittedBVEP_sde_observation_K_\"+str(K_true)+\".png\"), dpi=800)\n",
    "plt.savefig(os.path.join(cwd+'/'+str(Res_dir),\"SBI_FittedBVEP_sde_observation_K_\"+str(K_true)+\".svg\"), dpi=800)\n",
    "plt.show()"
   ]
  },
  {
   "cell_type": "code",
   "execution_count": null,
   "metadata": {},
   "outputs": [],
   "source": [
    "plt.figure(figsize=(14, 4))\n",
    "plt.subplot(121);\n",
    "plt.imshow(y_obs, aspect='auto', interpolation='bilinear',  origin='lower', cmap='Reds')\n",
    "plt.title(\"Simulated Seeg data\", fontsize=22) \n",
    "plt.xlabel('Time', fontsize=22)\n",
    "plt.ylabel('SEEG', fontsize=22)\n",
    "plt.yticks(fontsize=18, rotation=0)\n",
    "plt.xticks(fontsize=18, rotation=0)\n",
    "plt.colorbar();\n",
    "\n",
    "plt.subplot(122)\n",
    "plt.imshow(y_fit, aspect='auto', interpolation='bilinear',  origin='lower', cmap='Reds')\n",
    "plt.title(\" Predicted Seeg data\", fontsize=22) \n",
    "plt.xlabel('Time', fontsize=22)\n",
    "plt.ylabel('SEEG', fontsize=22)\n",
    "plt.yticks(fontsize=18, rotation=0)\n",
    "plt.xticks(fontsize=18, rotation=0) \n",
    "plt.colorbar();\n",
    "\n",
    "plt.tight_layout()\n",
    "plt.savefig(os.path.join(cwd+'/'+str(Res_dir),\"SBI_ImshowFittedBVEP_sde_observation_K_\"+str(K_true)+\".png\"), dpi=800)\n",
    "plt.savefig(os.path.join(cwd+'/'+str(Res_dir),\"SBI_ImshowFittedBVEP_sde_observation_K_\"+str(K_true)+\".svg\"), dpi=800)\n",
    "plt.show()"
   ]
  },
  {
   "cell_type": "code",
   "execution_count": null,
   "metadata": {},
   "outputs": [],
   "source": [
    "eta_true.shape, eta_posterior.shape"
   ]
  },
  {
   "cell_type": "code",
   "execution_count": null,
   "metadata": {
    "collapsed": true
   },
   "outputs": [],
   "source": [
    "true_labels_nodes,est_labels_nodes =SME_labels(eta_true, eta_posterior.transpose(), eta_c, delta_eta)"
   ]
  },
  {
   "cell_type": "code",
   "execution_count": null,
   "metadata": {},
   "outputs": [],
   "source": [
    "Confusion_matrix_values= confusion_matrix(true_labels_nodes, est_labels_nodes, labels=[\"EZ\", \"PZ\", \"HZ\"])\n",
    "print('Confusion_matrix_values= \\n', Confusion_matrix_values)"
   ]
  },
  {
   "cell_type": "code",
   "execution_count": null,
   "metadata": {},
   "outputs": [],
   "source": [
    "plt.figure(figsize=(8, 6))\n",
    "plot_confusion_matrix(Confusion_matrix_values, [\"EZ\", \"PZ\", \"HZ\"])\n",
    "plt.savefig(os.path.join(cwd+'/'+str(Res_dir),\"SBI_BVEP_sde_ConfusionMatrix_K_\"+str(K_true)+\".png\"), dpi=800)\n",
    "plt.savefig(os.path.join(cwd+'/'+str(Res_dir),\"SBI_BVEP_sde_ConfusionMatrix_K_\"+str(K_true)+\".svg\"), dpi=800)\n",
    "plt.tight_layout()\n",
    "plt.show()"
   ]
  },
  {
   "cell_type": "code",
   "execution_count": null,
   "metadata": {},
   "outputs": [],
   "source": [
    "np.sum(np.std(eta_posterior, axis=0))"
   ]
  },
  {
   "cell_type": "code",
   "execution_count": null,
   "metadata": {
    "collapsed": true
   },
   "outputs": [],
   "source": [
    "from report_metrics import LSE, Err, RMSE, LSE_obs, z_score, shrinkage"
   ]
  },
  {
   "cell_type": "code",
   "execution_count": null,
   "metadata": {
    "collapsed": true
   },
   "outputs": [],
   "source": [
    "eta_est_mu=np.mean(eta_posterior, axis=0)\n",
    "eta_est_std=np.std(eta_posterior, axis=0)"
   ]
  },
  {
   "cell_type": "code",
   "execution_count": null,
   "metadata": {
    "collapsed": true
   },
   "outputs": [],
   "source": [
    "b=-7\n",
    "a=-1\n",
    "prior_std =np.sqrt((1/12)*(b-a)**2)"
   ]
  },
  {
   "cell_type": "code",
   "execution_count": null,
   "metadata": {
    "collapsed": true
   },
   "outputs": [],
   "source": [
    "def plot_zscore_shrinkage(nodes, eta_true, eta_est_mu, eta_est_std, prior_std):\n",
    "    z_score_eta=z_score(eta_true, eta_est_mu, eta_est_std)\n",
    "    colors= np.random.rand(z_score_eta.shape[0])\n",
    "    plt.scatter(shrinkage([prior_std]*nodes.shape[0], eta_est_std), z_score_eta ,s=120, c='blue')\n",
    "    plt.xlabel(\"Posterior shrinkages\", fontsize=24)\n",
    "    plt.ylabel(\"Posterior z-scores\", fontsize=24)\n",
    "    plt.xticks(fontsize=16)\n",
    "    plt.yticks(fontsize=16)"
   ]
  },
  {
   "cell_type": "code",
   "execution_count": null,
   "metadata": {},
   "outputs": [],
   "source": [
    "plot_zscore_shrinkage(nodes, eta_true, eta_est_mu, eta_est_std, prior_std)\n",
    "plt.axis((-.1,1.1,-2,20))\n",
    "plt.tight_layout()\n",
    "plt.savefig(os.path.join(cwd+'/'+str(Res_dir),\"SBI_BVEP_sde_zscore_shrinkage_K_\"+str(K_true)+\".png\"), dpi=800)\n",
    "plt.savefig(os.path.join(cwd+'/'+str(Res_dir),\"SBI_BVEP_sde_zscore_shrinkage_K_\"+str(K_true)+\".svg\"), dpi=800)\n",
    "plt.show()"
   ]
  },
  {
   "cell_type": "code",
   "execution_count": null,
   "metadata": {},
   "outputs": [],
   "source": [
    "Err(eta_true, eta_est_mu), RMSE(eta_true, eta_est_mu)"
   ]
  },
  {
   "cell_type": "code",
   "execution_count": null,
   "metadata": {},
   "outputs": [],
   "source": [
    "Err(y_obs, y_fit), RMSE(y_obs, y_fit)"
   ]
  },
  {
   "cell_type": "code",
   "execution_count": null,
   "metadata": {},
   "outputs": [],
   "source": [
    "dist_best.shape, np.std(eta_posterior, axis=0).shape"
   ]
  },
  {
   "cell_type": "code",
   "execution_count": null,
   "metadata": {},
   "outputs": [],
   "source": [
    "shrinkage([prior_std]*nodes.shape[0], eta_est_std).shape"
   ]
  },
  {
   "cell_type": "code",
   "execution_count": null,
   "metadata": {},
   "outputs": [],
   "source": [
    "plt.scatter(np.std(eta_posterior, axis=0), dist_best, s=120, c='blue')\n",
    "plt.ylabel('Min distance',fontsize=24)\n",
    "plt.xlabel('Std estimation',fontsize=24)\n",
    "plt.xticks(fontsize=16)\n",
    "plt.yticks(fontsize=16)\n",
    "plt.tight_layout()\n",
    "plt.savefig(os.path.join(cwd+'/'+str(Res_dir),\"Distances_PosteriorStd_K_\"+str(K_true)+\".png\"), dpi=800)\n",
    "plt.savefig(os.path.join(cwd+'/'+str(Res_dir),\"Distances_PosteriorStd_K_\"+str(K_true)+\".svg\"), dpi=800)\n",
    "plt.show()"
   ]
  },
  {
   "cell_type": "code",
   "execution_count": null,
   "metadata": {},
   "outputs": [],
   "source": [
    "plt.scatter(shrinkage([prior_std]*nodes.shape[0], eta_est_std), dist_best, s=120, c='blue')\n",
    "plt.ylabel('Min distance',fontsize=24)\n",
    "plt.xlabel('Posterior shrinkages',fontsize=24)\n",
    "plt.xticks(fontsize=16)\n",
    "plt.yticks(fontsize=16)\n",
    "plt.tight_layout()\n",
    "plt.savefig(os.path.join(cwd+'/'+str(Res_dir),\"Distances_Shrinkages_K_\"+str(K_true)+\".png\"), dpi=800)\n",
    "plt.savefig(os.path.join(cwd+'/'+str(Res_dir),\"Distances_Shrinkages_K_\"+str(K_true)+\".svg\"), dpi=800)\n",
    "plt.show()"
   ]
  },
  {
   "cell_type": "code",
   "execution_count": null,
   "metadata": {
    "collapsed": true
   },
   "outputs": [],
   "source": [
    "from sklearn import metrics\n",
    "from itertools import cycle\n",
    "from sklearn.metrics import roc_curve\n",
    "from sklearn.metrics import roc_auc_score\n",
    "from sklearn.metrics import precision_recall_curve\n",
    "from sklearn.preprocessing import label_binarize"
   ]
  },
  {
   "cell_type": "code",
   "execution_count": null,
   "metadata": {
    "collapsed": true
   },
   "outputs": [],
   "source": [
    "n_classes=3\n",
    "node_classes=['HZ', 'PZ', 'EZ']"
   ]
  },
  {
   "cell_type": "code",
   "execution_count": null,
   "metadata": {
    "collapsed": true
   },
   "outputs": [],
   "source": [
    "true_nodes=true_node_binary(true_labels_nodes)\n",
    "estimated_nodes=estimated_node_binary(est_labels_nodes)"
   ]
  },
  {
   "cell_type": "code",
   "execution_count": null,
   "metadata": {
    "collapsed": true
   },
   "outputs": [],
   "source": [
    "y_true=label_binarize(true_nodes, classes=[0, 1, 2])\n",
    "y_pred=label_binarize(estimated_nodes, classes=[0, 1, 2])"
   ]
  },
  {
   "cell_type": "code",
   "execution_count": null,
   "metadata": {},
   "outputs": [],
   "source": [
    "y_true.shape, y_pred.shape"
   ]
  },
  {
   "cell_type": "code",
   "execution_count": null,
   "metadata": {
    "collapsed": true
   },
   "outputs": [],
   "source": [
    "fpr = dict()\n",
    "tpr = dict()\n",
    "roc_auc = dict()\n",
    "\n",
    "\n",
    "for i in range(n_classes):\n",
    "    fpr[i], tpr[i], _ = metrics.roc_curve(y_true[:, i], y_pred[:, i])\n",
    "    roc_auc[i] = metrics.auc(fpr[i], tpr[i])\n",
    "    \n",
    "# Compute micro-average ROC curve and ROC area\n",
    "fpr[\"micro\"], tpr[\"micro\"], _ = metrics.roc_curve(y_true.ravel(), y_pred.ravel())\n",
    "roc_auc[\"micro\"] = metrics.auc(fpr[\"micro\"], tpr[\"micro\"])    \n",
    "\n",
    "\n",
    "all_fpr = np.unique(np.concatenate([fpr[i] for i in range(n_classes)]))\n",
    "\n",
    "# Then interpolate all ROC curves at this points\n",
    "mean_tpr = np.zeros_like(all_fpr)\n",
    "for i in range(n_classes):\n",
    "    mean_tpr += interp(all_fpr, fpr[i], tpr[i])\n",
    "\n",
    "# Finally average it and compute AUC\n",
    "mean_tpr /= n_classes\n",
    "\n",
    "fpr[\"macro\"] = all_fpr\n",
    "tpr[\"macro\"] = mean_tpr\n",
    "roc_auc[\"macro\"] = metrics.auc(fpr[\"macro\"], tpr[\"macro\"])"
   ]
  },
  {
   "cell_type": "code",
   "execution_count": null,
   "metadata": {},
   "outputs": [],
   "source": [
    "# Plot all ROC curves\n",
    "plt.figure()\n",
    "\n",
    "plt.plot(fpr[\"micro\"], tpr[\"micro\"],\n",
    "         label='micro-average ROC curve (area = {0:0.2f})'\n",
    "               ''.format(roc_auc[\"micro\"]),\n",
    "         color='deeppink', linestyle=':', linewidth=4)\n",
    "\n",
    "plt.plot(fpr[\"macro\"], tpr[\"macro\"],\n",
    "         label='macro-average ROC curve (area = {0:0.2f})'\n",
    "               ''.format(roc_auc[\"macro\"]),\n",
    "         color='navy', linestyle=':', linewidth=4)\n",
    "\n",
    "colors = cycle(['aqua', 'darkorange', 'cornflowerblue'])\n",
    "lw=2\n",
    "\n",
    "for i, color in zip(range(n_classes), colors):\n",
    "    plt.plot(fpr[i], tpr[i], color=color, lw=lw,\n",
    "             label='ROC curve of class '+ str(node_classes[i])+' (area = {1:0.2f})'\n",
    "             ''.format(i, roc_auc[i]))\n",
    "\n",
    "plt.plot([0, 1], [0, 1], 'k--', lw=lw)\n",
    "plt.xlim([-.01, 1.0])\n",
    "plt.ylim([0.0, 1.05])\n",
    "plt.xlabel('False Positive Rate', fontsize=22)\n",
    "plt.ylabel('True Positive Rate', fontsize=22)\n",
    "plt.title('ROC for amortized inference of SEEG', fontsize=18)\n",
    "plt.legend(loc=\"lower right\")\n",
    "plt.xticks(fontsize=16)\n",
    "plt.yticks(fontsize=16)\n",
    "plt.tight_layout()\n",
    "plt.savefig(os.path.join(cwd+'/'+str(Res_dir),\"ROC_K_\"+str(K_true)+\".png\"), dpi=800)\n",
    "plt.savefig(os.path.join(cwd+'/'+str(Res_dir),\"ROC_K_\"+str(K_true)+\".png\"), dpi=800)\n",
    "plt.show()"
   ]
  },
  {
   "cell_type": "code",
   "execution_count": null,
   "metadata": {},
   "outputs": [],
   "source": [
    "fpr"
   ]
  },
  {
   "cell_type": "code",
   "execution_count": null,
   "metadata": {},
   "outputs": [],
   "source": [
    "tpr"
   ]
  },
  {
   "cell_type": "code",
   "execution_count": null,
   "metadata": {},
   "outputs": [],
   "source": [
    "roc_auc[\"micro\"], roc_auc[\"macro\"]"
   ]
  },
  {
   "cell_type": "markdown",
   "metadata": {},
   "source": [
    "### Another Data set"
   ]
  },
  {
   "cell_type": "code",
   "execution_count": null,
   "metadata": {
    "collapsed": true
   },
   "outputs": [],
   "source": [
    "hz_val=-3.65\n",
    "pz_val=-2.5\n",
    "ez_val=-1.7\n",
    "\n",
    "\n",
    "ez_idx = np.array([7, 29],  dtype=np.int32)\n",
    "pz_wplng_idx = np.array([6, 9, 28], dtype=np.int32)\n",
    "pz_kplng_idx = np.array([27], dtype=np.int32)\n",
    "pz_idx = np.append(pz_kplng_idx, pz_wplng_idx)"
   ]
  },
  {
   "cell_type": "code",
   "execution_count": null,
   "metadata": {
    "collapsed": true
   },
   "outputs": [],
   "source": [
    "eta_true = np.ones(nn)*hz_val\n",
    "eta_true[ez_idx] = ez_val\n",
    "eta_true[pz_idx] = pz_val"
   ]
  },
  {
   "cell_type": "code",
   "execution_count": null,
   "metadata": {
    "collapsed": true
   },
   "outputs": [],
   "source": [
    "K_true=1."
   ]
  },
  {
   "cell_type": "code",
   "execution_count": null,
   "metadata": {
    "collapsed": true
   },
   "outputs": [],
   "source": [
    "x_init=-2.5\n",
    "z_init=3.5\n",
    "init_conditions = np.array([x_init, z_init])"
   ]
  },
  {
   "cell_type": "code",
   "execution_count": null,
   "metadata": {},
   "outputs": [],
   "source": [
    "params_true = np.append(eta_true, K_true)\n",
    "params_true.shape"
   ]
  },
  {
   "cell_type": "code",
   "execution_count": null,
   "metadata": {
    "collapsed": true
   },
   "outputs": [],
   "source": [
    "obs_source =VEP2Dmodel(params_true, constants, init_conditions, dt, ts, SC)\n",
    "obs_source=obs_source.reshape(nn, int(obs_source.shape[0]/nn))\n",
    "\n",
    "obs_seeg= np.dot(Gr, np.exp(obs_source))"
   ]
  },
  {
   "cell_type": "code",
   "execution_count": null,
   "metadata": {},
   "outputs": [],
   "source": [
    "plt.figure(figsize=(10,16))\n",
    "for i in range(0, nn):\n",
    "    if i in ez_idx:\n",
    "          plt.plot(obs_source[i,:]+i, 'r', lw=3)\n",
    "    elif i in pz_idx:\n",
    "          plt.plot(obs_source[i,:]+i, 'y', lw=3)\n",
    "    else:  \n",
    "          plt.plot(obs_source[i,:]+i, 'g')\n",
    "plt.yticks(np.r_[0:nn]-2, np.r_[0:nn],fontsize=10)\n",
    "plt.xticks(fontsize=16)\n",
    "plt.title(\"Source brain activity\",fontsize=18)\n",
    "plt.xlabel('Time',fontsize=22)\n",
    "plt.ylabel('Brain Regions#',fontsize=22)\n",
    "plt.savefig(os.path.join(cwd+'/'+str(Res_dir),\"SBI_BVEP_sde_obs2_source_K_\"+str(K_true)+\".png\"), dpi=800)\n",
    "plt.savefig(os.path.join(cwd+'/'+str(Res_dir),\"SBI_BVEP_sde_obs2_source_K_\"+str(K_true)+\".svg\"), dpi=800)\n",
    "plt.show()"
   ]
  },
  {
   "cell_type": "code",
   "execution_count": null,
   "metadata": {
    "collapsed": true
   },
   "outputs": [],
   "source": [
    "obs_summary_statistics=calculate_summary_statistics(obs_seeg.reshape(-1), nn, ns, nt)"
   ]
  },
  {
   "cell_type": "code",
   "execution_count": null,
   "metadata": {},
   "outputs": [],
   "source": [
    "obs_seeg.shape, obs_summary_statistics.shape"
   ]
  },
  {
   "cell_type": "code",
   "execution_count": null,
   "metadata": {},
   "outputs": [],
   "source": [
    "y_obs=obs_seeg\n",
    "y_obs.shape"
   ]
  },
  {
   "cell_type": "code",
   "execution_count": null,
   "metadata": {},
   "outputs": [],
   "source": [
    "plt.figure(figsize=(10,6))\n",
    "plt.plot(obs_seeg.T)\n",
    "plt.title(\"Seeg signals\",fontsize=15)\n",
    "plt.xlabel('Time',fontsize=12)\n",
    "plt.ylabel('Sensors#',fontsize=12)\n",
    "plt.savefig(os.path.join(cwd+'/'+str(Res_dir),\"SBI_BVEP_sde_obs2_seeg_K_\"+str(K_true)+\".png\"), dpi=800)\n",
    "plt.savefig(os.path.join(cwd+'/'+str(Res_dir),\"SBI_BVEP_sde_obs2_seeg_K_\"+str(K_true)+\".svg\"), dpi=800)"
   ]
  },
  {
   "cell_type": "markdown",
   "metadata": {},
   "source": [
    "### Posterior"
   ]
  },
  {
   "cell_type": "code",
   "execution_count": null,
   "metadata": {
    "collapsed": true
   },
   "outputs": [],
   "source": [
    "nodes=np.r_[0:nn]"
   ]
  },
  {
   "cell_type": "code",
   "execution_count": null,
   "metadata": {
    "collapsed": true
   },
   "outputs": [],
   "source": [
    "num_samples=200"
   ]
  },
  {
   "cell_type": "code",
   "execution_count": null,
   "metadata": {},
   "outputs": [],
   "source": [
    "start_time = time.time()\n",
    "\n",
    "posterior_samples = posterior.sample((num_samples,), obs_summary_statistics).numpy()\n",
    "\n",
    "print (\"-\"*60)\n",
    "print(\"--- sampling took: %s seconds ---\" % (time.time() - start_time))"
   ]
  },
  {
   "cell_type": "code",
   "execution_count": null,
   "metadata": {},
   "outputs": [],
   "source": [
    "posterior_samples.shape, params_true.shape"
   ]
  },
  {
   "cell_type": "code",
   "execution_count": null,
   "metadata": {
    "collapsed": true
   },
   "outputs": [],
   "source": [
    "np.save(os.path.join(cwd+'/'+str(Res_dir), 'BVEP_sde_sbi_seeg_obs2_GrExp_patient1_posteriorsamples.npy') , posterior_samples)"
   ]
  },
  {
   "cell_type": "code",
   "execution_count": null,
   "metadata": {
    "collapsed": true
   },
   "outputs": [],
   "source": [
    "eta_posterior=posterior_samples[:,:-1]\n",
    "K_posterior=posterior_samples[:,-1]"
   ]
  },
  {
   "cell_type": "code",
   "execution_count": null,
   "metadata": {},
   "outputs": [],
   "source": [
    "K_posterior.mean(), K_posterior.std()"
   ]
  },
  {
   "cell_type": "code",
   "execution_count": null,
   "metadata": {
    "collapsed": true
   },
   "outputs": [],
   "source": [
    "eta_c=-1.95\n",
    "delta_eta=1.0              "
   ]
  },
  {
   "cell_type": "code",
   "execution_count": null,
   "metadata": {},
   "outputs": [],
   "source": [
    "plt.figure(figsize=(15,4))\n",
    "SEM_violinplot(nn, eta_true, ez_idx, pz_idx, eta_posterior, eta_c, delta_eta )\n",
    "plt.savefig(os.path.join(cwd+'/'+str(Res_dir),\"SBI_BVEP_sde_obs2_InferredExcitability_K_\"+str(K_true)+\".png\"), dpi=800)\n",
    "plt.savefig(os.path.join(cwd+'/'+str(Res_dir),\"SBI_BVEP_sde_obs2_InferredExcitability_K_\"+str(K_true)+\".svg\"), dpi=800)\n",
    "plt.show()"
   ]
  },
  {
   "cell_type": "code",
   "execution_count": null,
   "metadata": {},
   "outputs": [],
   "source": [
    "plt.figure(figsize=(4,4))\n",
    "parts= plt.violinplot(K_posterior, widths=0.7, showmeans=True, showextrema=True);\n",
    "plt.plot(1,params_true[-1] ,'o', color='k', alpha=0.9, markersize=8)\n",
    "plt.ylabel(' Posterior ' +r'${(K)}$', fontsize=24);  \n",
    "plt.xlabel(r'${K}$', fontsize=24); \n",
    "plt.yticks(fontsize=16)\n",
    "plt.xticks([])\n",
    "plt.tight_layout()\n",
    "plt.savefig(os.path.join(cwd+'/'+str(Res_dir),\"SBI_BVEP_sde_obs2_InferredCoupling_K_\"+str(K_true)+\".png\"), dpi=800)\n",
    "plt.savefig(os.path.join(cwd+'/'+str(Res_dir),\"SBI_BVEP_sde_obs2_InferredCoupling_K_\"+str(K_true)+\".svg\"), dpi=800)\n",
    "plt.show()"
   ]
  },
  {
   "cell_type": "code",
   "execution_count": null,
   "metadata": {
    "collapsed": true
   },
   "outputs": [],
   "source": [
    "estimated_posterior=np.percentile(posterior_samples, [50], axis=0).reshape(-1)    "
   ]
  },
  {
   "cell_type": "code",
   "execution_count": null,
   "metadata": {
    "collapsed": true
   },
   "outputs": [],
   "source": [
    "y_fit_source =VEP2Dmodel(estimated_posterior, constants, init_conditions, dt, ts, SC)\n",
    "\n",
    "yfit_source=y_fit_source.reshape(nn, int(y_fit_source.shape[0]/nn))\n",
    "\n",
    "yfit_seeg= np.dot(Gr, np.exp(yfit_source))"
   ]
  },
  {
   "cell_type": "code",
   "execution_count": null,
   "metadata": {},
   "outputs": [],
   "source": [
    "y_fit=yfit_seeg\n",
    "y_fit.shape"
   ]
  },
  {
   "cell_type": "code",
   "execution_count": null,
   "metadata": {
    "collapsed": true
   },
   "outputs": [],
   "source": [
    "np.save(os.path.join(cwd+'/'+str(Res_dir), 'BVEP_sde_sbi_seeg_obs2_GrExp_patient1_y_obs.npy') , y_obs)\n",
    "np.save(os.path.join(cwd+'/'+str(Res_dir), 'BVEP_sde_sbi_seeg_obs2_GrExp_patient1_y_fit.npy') , y_fit)"
   ]
  },
  {
   "cell_type": "code",
   "execution_count": null,
   "metadata": {},
   "outputs": [],
   "source": [
    "Rois=np.array([1, 6, 34, 50, 90, 100, 120, 130, 150])\n",
    "\n",
    "plt.figure(figsize=(10,4))\n",
    "for roi in Rois:\n",
    "    plt.plot(y_obs.T[:,roi], '.')\n",
    "    plt.plot(y_fit.T[:,roi] )\n",
    "plt.title(\"Observation vs prediction\",fontsize=15)\n",
    "plt.xlabel('Time', fontsize=22)\n",
    "plt.ylabel('SEEG signals', fontsize=22)\n",
    "plt.yticks(fontsize=18, rotation=0)\n",
    "plt.xticks(fontsize=18, rotation=0)\n",
    "plt.show()"
   ]
  },
  {
   "cell_type": "code",
   "execution_count": null,
   "metadata": {},
   "outputs": [],
   "source": [
    "plt.figure(figsize=(12,4))\n",
    "\n",
    "plt.subplot(121);\n",
    "plt.plot(y_obs.T)\n",
    "plt.title(\"Simulated Seeg data\", fontsize=22) \n",
    "plt.xlabel('Time', fontsize=22)\n",
    "plt.ylabel('SEEG', fontsize=22)\n",
    "plt.yticks(fontsize=18, rotation=0)\n",
    "plt.xticks(fontsize=18, rotation=0)\n",
    "\n",
    "plt.subplot(122)\n",
    "plt.plot(y_fit.T)\n",
    "plt.title(\" Predicted Seeg data\", fontsize=22) \n",
    "plt.xlabel('Time', fontsize=22)\n",
    "plt.ylabel('SEEG', fontsize=22)\n",
    "plt.yticks(fontsize=18, rotation=0)\n",
    "plt.xticks(fontsize=18, rotation=0)\n",
    "plt.tight_layout()\n",
    "plt.savefig(os.path.join(cwd+'/'+str(Res_dir),\"SBI_FittedBVEP_sde_obs2_observation_K_\"+str(K_true)+\".png\"), dpi=800)\n",
    "plt.savefig(os.path.join(cwd+'/'+str(Res_dir),\"SBI_FittedBVEP_sde_obs2_observation_K_\"+str(K_true)+\".svg\"), dpi=800)\n",
    "plt.show()"
   ]
  },
  {
   "cell_type": "code",
   "execution_count": null,
   "metadata": {},
   "outputs": [],
   "source": [
    "plt.figure(figsize=(14, 4))\n",
    "plt.subplot(121);\n",
    "plt.imshow(y_obs, aspect='auto', interpolation='bilinear',  origin='lower', cmap='Reds')\n",
    "plt.title(\"Simulated Seeg data\", fontsize=22) \n",
    "plt.xlabel('Time', fontsize=22)\n",
    "plt.ylabel('SEEG', fontsize=22)\n",
    "plt.yticks(fontsize=18, rotation=0)\n",
    "plt.xticks(fontsize=18, rotation=0)\n",
    "plt.colorbar();\n",
    "\n",
    "plt.subplot(122)\n",
    "plt.imshow(y_fit, aspect='auto', interpolation='bilinear',  origin='lower', cmap='Reds')\n",
    "plt.title(\" Predicted Seeg data\", fontsize=22) \n",
    "plt.xlabel('Time', fontsize=22)\n",
    "plt.ylabel('SEEG', fontsize=22)\n",
    "plt.yticks(fontsize=18, rotation=0)\n",
    "plt.xticks(fontsize=18, rotation=0) \n",
    "plt.colorbar();\n",
    "\n",
    "plt.tight_layout()\n",
    "plt.savefig(os.path.join(cwd+'/'+str(Res_dir),\"SBI_ImshowFittedBVEP_sde_obs2_observation_K_\"+str(K_true)+\".png\"), dpi=800)\n",
    "plt.savefig(os.path.join(cwd+'/'+str(Res_dir),\"SBI_ImshowFittedBVEP_sde_obs2_observation_K_\"+str(K_true)+\".svg\"), dpi=800)\n",
    "plt.show()"
   ]
  },
  {
   "cell_type": "code",
   "execution_count": null,
   "metadata": {},
   "outputs": [],
   "source": [
    "eta_true.shape, eta_posterior.shape"
   ]
  },
  {
   "cell_type": "code",
   "execution_count": null,
   "metadata": {
    "collapsed": true
   },
   "outputs": [],
   "source": [
    "true_labels_nodes,est_labels_nodes =SME_labels(eta_true, eta_posterior.transpose(), eta_c, delta_eta)"
   ]
  },
  {
   "cell_type": "code",
   "execution_count": null,
   "metadata": {},
   "outputs": [],
   "source": [
    "Confusion_matrix_values= confusion_matrix(true_labels_nodes, est_labels_nodes, labels=[\"EZ\", \"PZ\", \"HZ\"])\n",
    "print('Confusion_matrix_values= \\n', Confusion_matrix_values)"
   ]
  },
  {
   "cell_type": "code",
   "execution_count": null,
   "metadata": {},
   "outputs": [],
   "source": [
    "plt.figure(figsize=(8, 6))\n",
    "plot_confusion_matrix(Confusion_matrix_values, [\"EZ\", \"PZ\", \"HZ\"])\n",
    "plt.savefig(os.path.join(cwd+'/'+str(Res_dir),\"SBI_BVEP_sde_obs2_ConfusionMatrix_K_\"+str(K_true)+\".png\"), dpi=800)\n",
    "plt.savefig(os.path.join(cwd+'/'+str(Res_dir),\"SBI_BVEP_sde_obs2_ConfusionMatrix_K_\"+str(K_true)+\".svg\"), dpi=800)\n",
    "plt.tight_layout()\n",
    "plt.show()"
   ]
  },
  {
   "cell_type": "code",
   "execution_count": null,
   "metadata": {},
   "outputs": [],
   "source": [
    "np.sum(np.std(eta_posterior, axis=0))"
   ]
  },
  {
   "cell_type": "code",
   "execution_count": null,
   "metadata": {
    "collapsed": true
   },
   "outputs": [],
   "source": [
    "from report_metrics import LSE, Err, RMSE, LSE_obs, z_score, shrinkage"
   ]
  },
  {
   "cell_type": "code",
   "execution_count": null,
   "metadata": {
    "collapsed": true
   },
   "outputs": [],
   "source": [
    "eta_est_mu=np.mean(eta_posterior, axis=0)\n",
    "eta_est_std=np.std(eta_posterior, axis=0)"
   ]
  },
  {
   "cell_type": "code",
   "execution_count": null,
   "metadata": {
    "collapsed": true
   },
   "outputs": [],
   "source": [
    "b=-7\n",
    "a=-1\n",
    "prior_std =np.sqrt((1/12)*(b-a)**2)"
   ]
  },
  {
   "cell_type": "code",
   "execution_count": null,
   "metadata": {
    "collapsed": true
   },
   "outputs": [],
   "source": [
    "def plot_zscore_shrinkage(nodes, eta_true, eta_est_mu, eta_est_std, prior_std):\n",
    "    z_score_eta=z_score(eta_true, eta_est_mu, eta_est_std)\n",
    "    colors= np.random.rand(z_score_eta.shape[0])\n",
    "    plt.scatter(shrinkage([prior_std]*nodes.shape[0], eta_est_std), z_score_eta ,s=120, c='blue')\n",
    "    plt.xlabel(\"Posterior shrinkages\", fontsize=24)\n",
    "    plt.ylabel(\"Posterior z-scores\", fontsize=24)\n",
    "    plt.xticks(fontsize=16)\n",
    "    plt.yticks(fontsize=16)"
   ]
  },
  {
   "cell_type": "code",
   "execution_count": null,
   "metadata": {},
   "outputs": [],
   "source": [
    "plot_zscore_shrinkage(nodes, eta_true, eta_est_mu, eta_est_std, prior_std)\n",
    "plt.axis((-.1,1.1,-2,20))\n",
    "plt.tight_layout()\n",
    "plt.savefig(os.path.join(cwd+'/'+str(Res_dir),\"SBI_BVEP_sde_obs2_zscore_shrinkage_K_\"+str(K_true)+\".png\"), dpi=800)\n",
    "plt.savefig(os.path.join(cwd+'/'+str(Res_dir),\"SBI_BVEP_sde_obs2_zscore_shrinkage_K_\"+str(K_true)+\".svg\"), dpi=800)\n",
    "plt.show()"
   ]
  },
  {
   "cell_type": "code",
   "execution_count": null,
   "metadata": {},
   "outputs": [],
   "source": [
    "Err(eta_true, eta_est_mu), RMSE(eta_true, eta_est_mu)"
   ]
  },
  {
   "cell_type": "code",
   "execution_count": null,
   "metadata": {},
   "outputs": [],
   "source": [
    "Err(y_obs, y_fit), RMSE(y_obs, y_fit)"
   ]
  },
  {
   "cell_type": "code",
   "execution_count": null,
   "metadata": {},
   "outputs": [],
   "source": [
    "dist_best.shape, np.std(eta_posterior, axis=0).shape"
   ]
  },
  {
   "cell_type": "code",
   "execution_count": null,
   "metadata": {},
   "outputs": [],
   "source": [
    "shrinkage([prior_std]*nodes.shape[0], eta_est_std).shape"
   ]
  },
  {
   "cell_type": "code",
   "execution_count": null,
   "metadata": {},
   "outputs": [],
   "source": [
    "plt.scatter(np.std(eta_posterior, axis=0), dist_best, s=120, c='blue')\n",
    "plt.ylabel('Min distance',fontsize=24)\n",
    "plt.xlabel('Std estimation',fontsize=24)\n",
    "plt.xticks(fontsize=16)\n",
    "plt.yticks(fontsize=16)\n",
    "plt.tight_layout()\n",
    "plt.savefig(os.path.join(cwd+'/'+str(Res_dir),\"Distances_PosteriorStd_obs2_K_\"+str(K_true)+\".png\"), dpi=800)\n",
    "plt.savefig(os.path.join(cwd+'/'+str(Res_dir),\"Distances_PosteriorStd_obs2_K_\"+str(K_true)+\".svg\"), dpi=800)\n",
    "plt.show()"
   ]
  },
  {
   "cell_type": "code",
   "execution_count": null,
   "metadata": {},
   "outputs": [],
   "source": [
    "plt.scatter(shrinkage([prior_std]*nodes.shape[0], eta_est_std), dist_best, s=120, c='blue')\n",
    "plt.ylabel('Min distance',fontsize=24)\n",
    "plt.xlabel('Posterior shrinkages',fontsize=24)\n",
    "plt.xticks(fontsize=16)\n",
    "plt.yticks(fontsize=16)\n",
    "plt.tight_layout()\n",
    "plt.savefig(os.path.join(cwd+'/'+str(Res_dir),\"Distances_Shrinkages_obs2_K_\"+str(K_true)+\".png\"), dpi=800)\n",
    "plt.savefig(os.path.join(cwd+'/'+str(Res_dir),\"Distances_Shrinkages_obs2_K_\"+str(K_true)+\".svg\"), dpi=800)\n",
    "plt.show()"
   ]
  },
  {
   "cell_type": "code",
   "execution_count": null,
   "metadata": {
    "collapsed": true
   },
   "outputs": [],
   "source": [
    "from sklearn import metrics\n",
    "from itertools import cycle\n",
    "from sklearn.metrics import roc_curve\n",
    "from sklearn.metrics import roc_auc_score\n",
    "from sklearn.metrics import precision_recall_curve\n",
    "from sklearn.preprocessing import label_binarize"
   ]
  },
  {
   "cell_type": "code",
   "execution_count": null,
   "metadata": {
    "collapsed": true
   },
   "outputs": [],
   "source": [
    "n_classes=3\n",
    "node_classes=['HZ', 'PZ', 'EZ']"
   ]
  },
  {
   "cell_type": "code",
   "execution_count": null,
   "metadata": {
    "collapsed": true
   },
   "outputs": [],
   "source": [
    "true_nodes=true_node_binary(true_labels_nodes)\n",
    "estimated_nodes=estimated_node_binary(est_labels_nodes)"
   ]
  },
  {
   "cell_type": "code",
   "execution_count": null,
   "metadata": {
    "collapsed": true
   },
   "outputs": [],
   "source": [
    "y_true=label_binarize(true_nodes, classes=[0, 1, 2])\n",
    "y_pred=label_binarize(estimated_nodes, classes=[0, 1, 2])"
   ]
  },
  {
   "cell_type": "code",
   "execution_count": null,
   "metadata": {},
   "outputs": [],
   "source": [
    "y_true.shape, y_pred.shape"
   ]
  },
  {
   "cell_type": "code",
   "execution_count": null,
   "metadata": {
    "collapsed": true
   },
   "outputs": [],
   "source": [
    "fpr = dict()\n",
    "tpr = dict()\n",
    "roc_auc = dict()\n",
    "\n",
    "\n",
    "for i in range(n_classes):\n",
    "    fpr[i], tpr[i], _ = metrics.roc_curve(y_true[:, i], y_pred[:, i])\n",
    "    roc_auc[i] = metrics.auc(fpr[i], tpr[i])\n",
    "    \n",
    "# Compute micro-average ROC curve and ROC area\n",
    "fpr[\"micro\"], tpr[\"micro\"], _ = metrics.roc_curve(y_true.ravel(), y_pred.ravel())\n",
    "roc_auc[\"micro\"] = metrics.auc(fpr[\"micro\"], tpr[\"micro\"])    \n",
    "\n",
    "\n",
    "all_fpr = np.unique(np.concatenate([fpr[i] for i in range(n_classes)]))\n",
    "\n",
    "# Then interpolate all ROC curves at this points\n",
    "mean_tpr = np.zeros_like(all_fpr)\n",
    "for i in range(n_classes):\n",
    "    mean_tpr += interp(all_fpr, fpr[i], tpr[i])\n",
    "\n",
    "# Finally average it and compute AUC\n",
    "mean_tpr /= n_classes\n",
    "\n",
    "fpr[\"macro\"] = all_fpr\n",
    "tpr[\"macro\"] = mean_tpr\n",
    "roc_auc[\"macro\"] = metrics.auc(fpr[\"macro\"], tpr[\"macro\"])"
   ]
  },
  {
   "cell_type": "code",
   "execution_count": null,
   "metadata": {},
   "outputs": [],
   "source": [
    "# Plot all ROC curves\n",
    "plt.figure()\n",
    "plt.plot(fpr[\"micro\"], tpr[\"micro\"],\n",
    "         label='micro-average ROC curve (area = {0:0.2f})'\n",
    "               ''.format(roc_auc[\"micro\"]),\n",
    "         color='deeppink', linestyle=':', linewidth=4)\n",
    "\n",
    "plt.plot(fpr[\"macro\"], tpr[\"macro\"],\n",
    "         label='macro-average ROC curve (area = {0:0.2f})'\n",
    "               ''.format(roc_auc[\"macro\"]),\n",
    "         color='navy', linestyle=':', linewidth=4)\n",
    "\n",
    "colors = cycle(['aqua', 'darkorange', 'cornflowerblue'])\n",
    "for i, color in zip(range(n_classes), colors):\n",
    "    plt.plot(fpr[i], tpr[i], color=color, lw=lw,\n",
    "             label='ROC curve of class '+ str(node_classes[i])+' (area = {1:0.2f})'\n",
    "             ''.format(i, roc_auc[i]))\n",
    "\n",
    "plt.plot([0, 1], [0, 1], 'k--', lw=lw)\n",
    "plt.xlim([-.01, 1.0])\n",
    "plt.ylim([0.0, 1.05])\n",
    "plt.xlabel('False Positive Rate', fontsize=22)\n",
    "plt.ylabel('True Positive Rate', fontsize=22)\n",
    "plt.title('ROC for amortized inference of SEEG', fontsize=18)\n",
    "plt.legend(loc=\"lower right\")\n",
    "plt.xticks(fontsize=16)\n",
    "plt.yticks(fontsize=16)\n",
    "plt.tight_layout()\n",
    "plt.savefig(os.path.join(cwd+'/'+str(Res_dir),\"ROC_obs2_K_\"+str(K_true)+\".png\"), dpi=800)\n",
    "plt.savefig(os.path.join(cwd+'/'+str(Res_dir),\"ROC_obs2_K_\"+str(K_true)+\".png\"), dpi=800)\n",
    "plt.show()"
   ]
  },
  {
   "cell_type": "code",
   "execution_count": null,
   "metadata": {},
   "outputs": [],
   "source": [
    "fpr"
   ]
  },
  {
   "cell_type": "code",
   "execution_count": null,
   "metadata": {},
   "outputs": [],
   "source": [
    "tpr"
   ]
  },
  {
   "cell_type": "code",
   "execution_count": null,
   "metadata": {},
   "outputs": [],
   "source": [
    "roc_auc[\"micro\"], roc_auc[\"macro\"]"
   ]
  },
  {
   "cell_type": "markdown",
   "metadata": {},
   "source": [
    "### Another Data set"
   ]
  },
  {
   "cell_type": "code",
   "execution_count": null,
   "metadata": {
    "collapsed": true
   },
   "outputs": [],
   "source": [
    "hz_val=-3.65\n",
    "pz_val=-2.4\n",
    "ez_val=-1.6\n",
    "\n",
    "ez_idx = np.array([6, 34, 18, 45, 67, 81],  dtype=np.int32)\n",
    "pz_wplng_idx = np.array([5,11], dtype=np.int32)\n",
    "pz_kplng_idx = np.array([27], dtype=np.int32)\n",
    "pz_idx = np.append(pz_kplng_idx, pz_wplng_idx)"
   ]
  },
  {
   "cell_type": "code",
   "execution_count": null,
   "metadata": {
    "collapsed": true
   },
   "outputs": [],
   "source": [
    "eta_true = np.ones(nn)*hz_val\n",
    "eta_true[ez_idx] = ez_val\n",
    "eta_true[pz_idx] = pz_val"
   ]
  },
  {
   "cell_type": "code",
   "execution_count": null,
   "metadata": {
    "collapsed": true
   },
   "outputs": [],
   "source": [
    "K_true=1."
   ]
  },
  {
   "cell_type": "code",
   "execution_count": null,
   "metadata": {
    "collapsed": true
   },
   "outputs": [],
   "source": [
    "x_init=-2.5\n",
    "z_init=3.5\n",
    "init_conditions = np.array([x_init, z_init])"
   ]
  },
  {
   "cell_type": "code",
   "execution_count": null,
   "metadata": {},
   "outputs": [],
   "source": [
    "params_true = np.append(eta_true, K_true)\n",
    "params_true.shape"
   ]
  },
  {
   "cell_type": "code",
   "execution_count": null,
   "metadata": {
    "collapsed": true
   },
   "outputs": [],
   "source": [
    "obs_source =VEP2Dmodel(params_true, constants, init_conditions, dt, ts, SC)\n",
    "obs_source=obs_source.reshape(nn, int(obs_source.shape[0]/nn))\n",
    "\n",
    "obs_seeg= np.dot(Gr, np.exp(obs_source))"
   ]
  },
  {
   "cell_type": "code",
   "execution_count": null,
   "metadata": {},
   "outputs": [],
   "source": [
    "plt.figure(figsize=(10,16))\n",
    "for i in range(0, nn):\n",
    "    if i in ez_idx:\n",
    "          plt.plot(obs_source[i,:]+i, 'r', lw=3)\n",
    "    elif i in pz_idx:\n",
    "          plt.plot(obs_source[i,:]+i, 'y', lw=3)\n",
    "    else:  \n",
    "          plt.plot(obs_source[i,:]+i, 'g')\n",
    "plt.yticks(np.r_[0:nn]-2, np.r_[0:nn],fontsize=10)\n",
    "plt.xticks(fontsize=16)\n",
    "plt.title(\"Source brain activity\",fontsize=18)\n",
    "plt.xlabel('Time',fontsize=22)\n",
    "plt.ylabel('Brain Regions#',fontsize=22)\n",
    "plt.savefig(os.path.join(cwd+'/'+str(Res_dir),\"SBI_BVEP_sde_obs3_source_K_\"+str(K_true)+\".png\"), dpi=800)\n",
    "plt.savefig(os.path.join(cwd+'/'+str(Res_dir),\"SBI_BVEP_sde_obs3_source_K_\"+str(K_true)+\".svg\"), dpi=800)\n",
    "plt.show()"
   ]
  },
  {
   "cell_type": "code",
   "execution_count": null,
   "metadata": {
    "collapsed": true
   },
   "outputs": [],
   "source": [
    "obs_summary_statistics=calculate_summary_statistics(obs_seeg.reshape(-1), nn, ns, nt)"
   ]
  },
  {
   "cell_type": "code",
   "execution_count": null,
   "metadata": {},
   "outputs": [],
   "source": [
    "obs_seeg.shape, obs_summary_statistics.shape"
   ]
  },
  {
   "cell_type": "code",
   "execution_count": null,
   "metadata": {},
   "outputs": [],
   "source": [
    "y_obs=obs_seeg\n",
    "y_obs.shape"
   ]
  },
  {
   "cell_type": "code",
   "execution_count": null,
   "metadata": {},
   "outputs": [],
   "source": [
    "plt.figure(figsize=(10,6))\n",
    "plt.plot(obs_seeg.T)\n",
    "plt.title(\"Seeg signals\",fontsize=15)\n",
    "plt.xlabel('Time',fontsize=12)\n",
    "plt.ylabel('Sensors#',fontsize=12)\n",
    "plt.savefig(os.path.join(cwd+'/'+str(Res_dir),\"SBI_BVEP_sde_obs3_seeg_K_\"+str(K_true)+\".png\"), dpi=800)\n",
    "plt.savefig(os.path.join(cwd+'/'+str(Res_dir),\"SBI_BVEP_sde_obs3_seeg_K_\"+str(K_true)+\".svg\"), dpi=800)"
   ]
  },
  {
   "cell_type": "markdown",
   "metadata": {},
   "source": [
    "### Posterior"
   ]
  },
  {
   "cell_type": "code",
   "execution_count": null,
   "metadata": {
    "collapsed": true
   },
   "outputs": [],
   "source": [
    "nodes=np.r_[0:nn]"
   ]
  },
  {
   "cell_type": "code",
   "execution_count": null,
   "metadata": {
    "collapsed": true
   },
   "outputs": [],
   "source": [
    "num_samples=200"
   ]
  },
  {
   "cell_type": "code",
   "execution_count": null,
   "metadata": {},
   "outputs": [],
   "source": [
    "start_time = time.time()\n",
    "\n",
    "posterior_samples = posterior.sample((num_samples,), obs_summary_statistics).numpy()\n",
    "\n",
    "print (\"-\"*60)\n",
    "print(\"--- sampling took: %s seconds ---\" % (time.time() - start_time))"
   ]
  },
  {
   "cell_type": "code",
   "execution_count": null,
   "metadata": {},
   "outputs": [],
   "source": [
    "posterior_samples.shape, params_true.shape"
   ]
  },
  {
   "cell_type": "code",
   "execution_count": null,
   "metadata": {
    "collapsed": true
   },
   "outputs": [],
   "source": [
    "np.save(os.path.join(cwd+'/'+str(Res_dir), 'BVEP_sde_sbi_seeg_obs3_GrExp_patient1_posteriorsamples.npy') , posterior_samples)"
   ]
  },
  {
   "cell_type": "code",
   "execution_count": null,
   "metadata": {
    "collapsed": true
   },
   "outputs": [],
   "source": [
    "eta_posterior=posterior_samples[:,:-1]\n",
    "K_posterior=posterior_samples[:,-1]"
   ]
  },
  {
   "cell_type": "code",
   "execution_count": null,
   "metadata": {},
   "outputs": [],
   "source": [
    "K_posterior.mean(), K_posterior.std()"
   ]
  },
  {
   "cell_type": "code",
   "execution_count": null,
   "metadata": {
    "collapsed": true
   },
   "outputs": [],
   "source": [
    "eta_c=-1.95\n",
    "delta_eta=1.0              "
   ]
  },
  {
   "cell_type": "code",
   "execution_count": null,
   "metadata": {},
   "outputs": [],
   "source": [
    "plt.figure(figsize=(15,4))\n",
    "SEM_violinplot(nn, eta_true, ez_idx, pz_idx, eta_posterior, eta_c, delta_eta )\n",
    "plt.savefig(os.path.join(cwd+'/'+str(Res_dir),\"SBI_BVEP_sde_obs3_InferredExcitability_K_\"+str(K_true)+\".png\"), dpi=800)\n",
    "plt.savefig(os.path.join(cwd+'/'+str(Res_dir),\"SBI_BVEP_sde_obs3_InferredExcitability_K_\"+str(K_true)+\".svg\"), dpi=800)\n",
    "plt.show()"
   ]
  },
  {
   "cell_type": "code",
   "execution_count": null,
   "metadata": {},
   "outputs": [],
   "source": [
    "plt.figure(figsize=(4,4))\n",
    "parts= plt.violinplot(K_posterior, widths=0.7, showmeans=True, showextrema=True);\n",
    "plt.plot(1,params_true[-1] ,'o', color='k', alpha=0.9, markersize=8)\n",
    "plt.ylabel(' Posterior ' +r'${(K)}$', fontsize=24);  \n",
    "plt.xlabel(r'${K}$', fontsize=24); \n",
    "plt.yticks(fontsize=16)\n",
    "plt.xticks([])\n",
    "plt.tight_layout()\n",
    "plt.savefig(os.path.join(cwd+'/'+str(Res_dir),\"SBI_BVEP_sde_obs3_InferredCoupling_K_\"+str(K_true)+\".png\"), dpi=800)\n",
    "plt.savefig(os.path.join(cwd+'/'+str(Res_dir),\"SBI_BVEP_sde_obs3_InferredCoupling_K_\"+str(K_true)+\".svg\"), dpi=800)\n",
    "plt.show()"
   ]
  },
  {
   "cell_type": "code",
   "execution_count": null,
   "metadata": {
    "collapsed": true
   },
   "outputs": [],
   "source": [
    "estimated_posterior=np.percentile(posterior_samples, [50], axis=0).reshape(-1)    "
   ]
  },
  {
   "cell_type": "code",
   "execution_count": null,
   "metadata": {
    "collapsed": true
   },
   "outputs": [],
   "source": [
    "y_fit_source =VEP2Dmodel(estimated_posterior, constants, init_conditions, dt, ts, SC)\n",
    "\n",
    "yfit_source=y_fit_source.reshape(nn, int(y_fit_source.shape[0]/nn))\n",
    "\n",
    "yfit_seeg= np.dot(Gr, np.exp(yfit_source))"
   ]
  },
  {
   "cell_type": "code",
   "execution_count": null,
   "metadata": {},
   "outputs": [],
   "source": [
    "y_fit=yfit_seeg\n",
    "y_fit.shape"
   ]
  },
  {
   "cell_type": "code",
   "execution_count": null,
   "metadata": {
    "collapsed": true
   },
   "outputs": [],
   "source": [
    "np.save(os.path.join(cwd+'/'+str(Res_dir), 'BVEP_sde_sbi_seeg_obs3_GrExp_patient1_y_obs.npy') , y_obs)\n",
    "np.save(os.path.join(cwd+'/'+str(Res_dir), 'BVEP_sde_sbi_seeg_obs3_GrExp_patient1_y_fit.npy') , y_fit)"
   ]
  },
  {
   "cell_type": "code",
   "execution_count": null,
   "metadata": {},
   "outputs": [],
   "source": [
    "Rois=np.array([1, 6, 34, 50, 90, 100, 120, 130, 150])\n",
    "\n",
    "plt.figure(figsize=(10,4))\n",
    "for roi in Rois:\n",
    "    plt.plot(y_obs.T[:,roi], '.')\n",
    "    plt.plot(y_fit.T[:,roi] )\n",
    "plt.title(\"Observation vs prediction\",fontsize=15)\n",
    "plt.xlabel('Time', fontsize=22)\n",
    "plt.ylabel('SEEG signals', fontsize=22)\n",
    "plt.yticks(fontsize=18, rotation=0)\n",
    "plt.xticks(fontsize=18, rotation=0)\n",
    "plt.show()"
   ]
  },
  {
   "cell_type": "code",
   "execution_count": null,
   "metadata": {},
   "outputs": [],
   "source": [
    "plt.figure(figsize=(12,4))\n",
    "\n",
    "plt.subplot(121);\n",
    "plt.plot(y_obs.T)\n",
    "plt.title(\"Simulated Seeg data\", fontsize=22) \n",
    "plt.xlabel('Time', fontsize=22)\n",
    "plt.ylabel('SEEG', fontsize=22)\n",
    "plt.yticks(fontsize=18, rotation=0)\n",
    "plt.xticks(fontsize=18, rotation=0)\n",
    "\n",
    "plt.subplot(122)\n",
    "plt.plot(y_fit.T)\n",
    "plt.title(\" Predicted Seeg data\", fontsize=22) \n",
    "plt.xlabel('Time', fontsize=22)\n",
    "plt.ylabel('SEEG', fontsize=22)\n",
    "plt.yticks(fontsize=18, rotation=0)\n",
    "plt.xticks(fontsize=18, rotation=0)\n",
    "plt.tight_layout()\n",
    "plt.savefig(os.path.join(cwd+'/'+str(Res_dir),\"SBI_FittedBVEP_sde_obs3_observation_K_\"+str(K_true)+\".png\"), dpi=800)\n",
    "plt.savefig(os.path.join(cwd+'/'+str(Res_dir),\"SBI_FittedBVEP_sde_obs3_observation_K_\"+str(K_true)+\".svg\"), dpi=800)\n",
    "plt.show()"
   ]
  },
  {
   "cell_type": "code",
   "execution_count": null,
   "metadata": {},
   "outputs": [],
   "source": [
    "plt.figure(figsize=(14, 4))\n",
    "plt.subplot(121);\n",
    "plt.imshow(y_obs, aspect='auto', interpolation='bilinear',  origin='lower', cmap='Reds')\n",
    "plt.title(\"Simulated Seeg data\", fontsize=22) \n",
    "plt.xlabel('Time', fontsize=22)\n",
    "plt.ylabel('SEEG', fontsize=22)\n",
    "plt.yticks(fontsize=18, rotation=0)\n",
    "plt.xticks(fontsize=18, rotation=0)\n",
    "plt.colorbar();\n",
    "\n",
    "plt.subplot(122)\n",
    "plt.imshow(y_fit, aspect='auto', interpolation='bilinear',  origin='lower', cmap='Reds')\n",
    "plt.title(\" Predicted Seeg data\", fontsize=22) \n",
    "plt.xlabel('Time', fontsize=22)\n",
    "plt.ylabel('SEEG', fontsize=22)\n",
    "plt.yticks(fontsize=18, rotation=0)\n",
    "plt.xticks(fontsize=18, rotation=0) \n",
    "plt.colorbar();\n",
    "\n",
    "plt.tight_layout()\n",
    "plt.savefig(os.path.join(cwd+'/'+str(Res_dir),\"SBI_ImshowFittedBVEP_sde_obs3_observation_K_\"+str(K_true)+\".png\"), dpi=800)\n",
    "plt.savefig(os.path.join(cwd+'/'+str(Res_dir),\"SBI_ImshowFittedBVEP_sde_obs3_observation_K_\"+str(K_true)+\".svg\"), dpi=800)\n",
    "plt.show()"
   ]
  },
  {
   "cell_type": "code",
   "execution_count": null,
   "metadata": {},
   "outputs": [],
   "source": [
    "eta_true.shape, eta_posterior.shape"
   ]
  },
  {
   "cell_type": "code",
   "execution_count": null,
   "metadata": {
    "collapsed": true
   },
   "outputs": [],
   "source": [
    "true_labels_nodes,est_labels_nodes =SME_labels(eta_true, eta_posterior.transpose(), eta_c, delta_eta)"
   ]
  },
  {
   "cell_type": "code",
   "execution_count": null,
   "metadata": {},
   "outputs": [],
   "source": [
    "Confusion_matrix_values= confusion_matrix(true_labels_nodes, est_labels_nodes, labels=[\"EZ\", \"PZ\", \"HZ\"])\n",
    "print('Confusion_matrix_values= \\n', Confusion_matrix_values)"
   ]
  },
  {
   "cell_type": "code",
   "execution_count": null,
   "metadata": {},
   "outputs": [],
   "source": [
    "plt.figure(figsize=(8, 6))\n",
    "plot_confusion_matrix(Confusion_matrix_values, [\"EZ\", \"PZ\", \"HZ\"])\n",
    "plt.savefig(os.path.join(cwd+'/'+str(Res_dir),\"SBI_BVEP_sde_obs3_ConfusionMatrix_K_\"+str(K_true)+\".png\"), dpi=800)\n",
    "plt.savefig(os.path.join(cwd+'/'+str(Res_dir),\"SBI_BVEP_sde_obs3_ConfusionMatrix_K_\"+str(K_true)+\".svg\"), dpi=800)\n",
    "plt.tight_layout()\n",
    "plt.show()"
   ]
  },
  {
   "cell_type": "code",
   "execution_count": null,
   "metadata": {},
   "outputs": [],
   "source": [
    "np.sum(np.std(eta_posterior, axis=0))"
   ]
  },
  {
   "cell_type": "code",
   "execution_count": null,
   "metadata": {
    "collapsed": true
   },
   "outputs": [],
   "source": [
    "from report_metrics import LSE, Err, RMSE, LSE_obs, z_score, shrinkage"
   ]
  },
  {
   "cell_type": "code",
   "execution_count": null,
   "metadata": {
    "collapsed": true
   },
   "outputs": [],
   "source": [
    "eta_est_mu=np.mean(eta_posterior, axis=0)\n",
    "eta_est_std=np.std(eta_posterior, axis=0)"
   ]
  },
  {
   "cell_type": "code",
   "execution_count": null,
   "metadata": {
    "collapsed": true
   },
   "outputs": [],
   "source": [
    "b=-7\n",
    "a=-1\n",
    "prior_std =np.sqrt((1/12)*(b-a)**2)"
   ]
  },
  {
   "cell_type": "code",
   "execution_count": null,
   "metadata": {
    "collapsed": true
   },
   "outputs": [],
   "source": [
    "def plot_zscore_shrinkage(nodes, eta_true, eta_est_mu, eta_est_std, prior_std):\n",
    "    z_score_eta=z_score(eta_true, eta_est_mu, eta_est_std)\n",
    "    colors= np.random.rand(z_score_eta.shape[0])\n",
    "    plt.scatter(shrinkage([prior_std]*nodes.shape[0], eta_est_std), z_score_eta ,s=120, c='blue')\n",
    "    plt.xlabel(\"Posterior shrinkages\", fontsize=24)\n",
    "    plt.ylabel(\"Posterior z-scores\", fontsize=24)\n",
    "    plt.xticks(fontsize=16)\n",
    "    plt.yticks(fontsize=16)"
   ]
  },
  {
   "cell_type": "code",
   "execution_count": null,
   "metadata": {},
   "outputs": [],
   "source": [
    "plot_zscore_shrinkage(nodes, eta_true, eta_est_mu, eta_est_std, prior_std)\n",
    "plt.axis((-.1,1.1,-2,20))\n",
    "plt.tight_layout()\n",
    "plt.savefig(os.path.join(cwd+'/'+str(Res_dir),\"SBI_BVEP_sde_obs3_zscore_shrinkage_K_\"+str(K_true)+\".png\"), dpi=800)\n",
    "plt.savefig(os.path.join(cwd+'/'+str(Res_dir),\"SBI_BVEP_sde_obs3_zscore_shrinkage_K_\"+str(K_true)+\".svg\"), dpi=800)\n",
    "plt.show()"
   ]
  },
  {
   "cell_type": "code",
   "execution_count": null,
   "metadata": {},
   "outputs": [],
   "source": [
    "Err(eta_true, eta_est_mu), RMSE(eta_true, eta_est_mu)"
   ]
  },
  {
   "cell_type": "code",
   "execution_count": null,
   "metadata": {},
   "outputs": [],
   "source": [
    "Err(y_obs, y_fit), RMSE(y_obs, y_fit)"
   ]
  },
  {
   "cell_type": "code",
   "execution_count": null,
   "metadata": {},
   "outputs": [],
   "source": [
    "dist_best.shape, np.std(eta_posterior, axis=0).shape"
   ]
  },
  {
   "cell_type": "code",
   "execution_count": null,
   "metadata": {},
   "outputs": [],
   "source": [
    "shrinkage([prior_std]*nodes.shape[0], eta_est_std).shape"
   ]
  },
  {
   "cell_type": "code",
   "execution_count": null,
   "metadata": {},
   "outputs": [],
   "source": [
    "plt.scatter(np.std(eta_posterior, axis=0), dist_best, s=120, c='blue')\n",
    "plt.ylabel('Min distance',fontsize=24)\n",
    "plt.xlabel('Std estimation',fontsize=24)\n",
    "plt.xticks(fontsize=16)\n",
    "plt.yticks(fontsize=16)\n",
    "plt.tight_layout()\n",
    "plt.savefig(os.path.join(cwd+'/'+str(Res_dir),\"Distances_PosteriorStd_obs3_K_\"+str(K_true)+\".png\"), dpi=800)\n",
    "plt.savefig(os.path.join(cwd+'/'+str(Res_dir),\"Distances_PosteriorStd_obs3_K_\"+str(K_true)+\".svg\"), dpi=800)\n",
    "plt.show()"
   ]
  },
  {
   "cell_type": "code",
   "execution_count": null,
   "metadata": {},
   "outputs": [],
   "source": [
    "plt.scatter(shrinkage([prior_std]*nodes.shape[0], eta_est_std), dist_best, s=120, c='blue')\n",
    "plt.ylabel('Min distance',fontsize=24)\n",
    "plt.xlabel('Posterior shrinkages',fontsize=24)\n",
    "plt.xticks(fontsize=16)\n",
    "plt.yticks(fontsize=16)\n",
    "plt.tight_layout()\n",
    "plt.savefig(os.path.join(cwd+'/'+str(Res_dir),\"Distances_Shrinkages_obs3_K_\"+str(K_true)+\".png\"), dpi=800)\n",
    "plt.savefig(os.path.join(cwd+'/'+str(Res_dir),\"Distances_Shrinkages_obs3_K_\"+str(K_true)+\".svg\"), dpi=800)\n",
    "plt.show()"
   ]
  },
  {
   "cell_type": "code",
   "execution_count": null,
   "metadata": {
    "collapsed": true
   },
   "outputs": [],
   "source": [
    "from sklearn import metrics\n",
    "from itertools import cycle\n",
    "from sklearn.metrics import roc_curve\n",
    "from sklearn.metrics import roc_auc_score\n",
    "from sklearn.metrics import precision_recall_curve\n",
    "from sklearn.preprocessing import label_binarize"
   ]
  },
  {
   "cell_type": "code",
   "execution_count": null,
   "metadata": {
    "collapsed": true
   },
   "outputs": [],
   "source": [
    "n_classes=3\n",
    "node_classes=['HZ', 'PZ', 'EZ']"
   ]
  },
  {
   "cell_type": "code",
   "execution_count": null,
   "metadata": {
    "collapsed": true
   },
   "outputs": [],
   "source": [
    "true_nodes=true_node_binary(true_labels_nodes)\n",
    "estimated_nodes=estimated_node_binary(est_labels_nodes)"
   ]
  },
  {
   "cell_type": "code",
   "execution_count": null,
   "metadata": {
    "collapsed": true
   },
   "outputs": [],
   "source": [
    "y_true=label_binarize(true_nodes, classes=[0, 1, 2])\n",
    "y_pred=label_binarize(estimated_nodes, classes=[0, 1, 2])"
   ]
  },
  {
   "cell_type": "code",
   "execution_count": null,
   "metadata": {},
   "outputs": [],
   "source": [
    "y_true.shape, y_pred.shape"
   ]
  },
  {
   "cell_type": "code",
   "execution_count": null,
   "metadata": {
    "collapsed": true
   },
   "outputs": [],
   "source": [
    "fpr = dict()\n",
    "tpr = dict()\n",
    "roc_auc = dict()\n",
    "\n",
    "\n",
    "for i in range(n_classes):\n",
    "    fpr[i], tpr[i], _ = metrics.roc_curve(y_true[:, i], y_pred[:, i])\n",
    "    roc_auc[i] = metrics.auc(fpr[i], tpr[i])\n",
    "    \n",
    "# Compute micro-average ROC curve and ROC area\n",
    "fpr[\"micro\"], tpr[\"micro\"], _ = metrics.roc_curve(y_true.ravel(), y_pred.ravel())\n",
    "roc_auc[\"micro\"] = metrics.auc(fpr[\"micro\"], tpr[\"micro\"])    \n",
    "\n",
    "\n",
    "all_fpr = np.unique(np.concatenate([fpr[i] for i in range(n_classes)]))\n",
    "\n",
    "# Then interpolate all ROC curves at this points\n",
    "mean_tpr = np.zeros_like(all_fpr)\n",
    "for i in range(n_classes):\n",
    "    mean_tpr += interp(all_fpr, fpr[i], tpr[i])\n",
    "\n",
    "# Finally average it and compute AUC\n",
    "mean_tpr /= n_classes\n",
    "\n",
    "fpr[\"macro\"] = all_fpr\n",
    "tpr[\"macro\"] = mean_tpr\n",
    "roc_auc[\"macro\"] = metrics.auc(fpr[\"macro\"], tpr[\"macro\"])"
   ]
  },
  {
   "cell_type": "code",
   "execution_count": null,
   "metadata": {},
   "outputs": [],
   "source": [
    "# Plot all ROC curves\n",
    "plt.figure()\n",
    "plt.plot(fpr[\"micro\"], tpr[\"micro\"],\n",
    "         label='micro-average ROC curve (area = {0:0.2f})'\n",
    "               ''.format(roc_auc[\"micro\"]),\n",
    "         color='deeppink', linestyle=':', linewidth=4)\n",
    "\n",
    "plt.plot(fpr[\"macro\"], tpr[\"macro\"],\n",
    "         label='macro-average ROC curve (area = {0:0.2f})'\n",
    "               ''.format(roc_auc[\"macro\"]),\n",
    "         color='navy', linestyle=':', linewidth=4)\n",
    "\n",
    "colors = cycle(['aqua', 'darkorange', 'cornflowerblue'])\n",
    "for i, color in zip(range(n_classes), colors):\n",
    "    plt.plot(fpr[i], tpr[i], color=color, lw=lw,\n",
    "             label='ROC curve of class '+ str(node_classes[i])+' (area = {1:0.2f})'\n",
    "             ''.format(i, roc_auc[i]))\n",
    "\n",
    "plt.plot([0, 1], [0, 1], 'k--', lw=lw)\n",
    "plt.xlim([-.01, 1.0])\n",
    "plt.ylim([0.0, 1.05])\n",
    "plt.xlabel('False Positive Rate', fontsize=22)\n",
    "plt.ylabel('True Positive Rate', fontsize=22)\n",
    "plt.title('ROC for amortized inference of SEEG', fontsize=18)\n",
    "plt.legend(loc=\"lower right\")\n",
    "plt.xticks(fontsize=16)\n",
    "plt.yticks(fontsize=16)\n",
    "plt.tight_layout()\n",
    "plt.savefig(os.path.join(cwd+'/'+str(Res_dir),\"ROC_obs3_K_\"+str(K_true)+\".png\"), dpi=800)\n",
    "plt.savefig(os.path.join(cwd+'/'+str(Res_dir),\"ROC_obs3_K_\"+str(K_true)+\".png\"), dpi=800)\n",
    "plt.show()"
   ]
  },
  {
   "cell_type": "code",
   "execution_count": null,
   "metadata": {},
   "outputs": [],
   "source": [
    "fpr"
   ]
  },
  {
   "cell_type": "code",
   "execution_count": null,
   "metadata": {},
   "outputs": [],
   "source": [
    "tpr"
   ]
  },
  {
   "cell_type": "code",
   "execution_count": null,
   "metadata": {},
   "outputs": [],
   "source": [
    "roc_auc[\"micro\"], roc_auc[\"macro\"]"
   ]
  }
 ],
 "metadata": {
  "kernelspec": {
   "display_name": "sbi_env",
   "language": "python",
   "name": "sbi_env"
  },
  "language_info": {
   "codemirror_mode": {
    "name": "ipython",
    "version": 3
   },
   "file_extension": ".py",
   "mimetype": "text/x-python",
   "name": "python",
   "nbconvert_exporter": "python",
   "pygments_lexer": "ipython3",
   "version": "3.7.12"
  }
 },
 "nbformat": 4,
 "nbformat_minor": 4
}
