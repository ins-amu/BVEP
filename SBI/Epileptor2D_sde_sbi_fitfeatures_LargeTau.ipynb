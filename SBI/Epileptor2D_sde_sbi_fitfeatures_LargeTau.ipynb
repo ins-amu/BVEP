{
 "cells": [
  {
   "cell_type": "markdown",
   "metadata": {},
   "source": [
    "# Simulated-based-inference of 2D Epileptor model"
   ]
  },
  {
   "cell_type": "code",
   "execution_count": 1,
   "metadata": {
    "collapsed": true
   },
   "outputs": [],
   "source": [
    "import os\n",
    "import sys\n",
    "import time\n",
    "import errno\n",
    "import time\n",
    "import timeit\n",
    "\n",
    "\n",
    "import numpy as np\n",
    "import scipy as scp\n",
    "\n",
    "\n",
    "import numba\n",
    "from numba import jit"
   ]
  },
  {
   "cell_type": "code",
   "execution_count": 2,
   "metadata": {
    "collapsed": true
   },
   "outputs": [],
   "source": [
    "from scipy import stats as spstats\n",
    "from scipy.stats import moment\n",
    "from scipy.stats import kurtosis\n",
    "from scipy.stats import skew\n",
    "from scipy.stats import mode\n",
    "\n",
    "from scipy.optimize import fsolve\n",
    "from scipy.optimize import root"
   ]
  },
  {
   "cell_type": "code",
   "execution_count": 3,
   "metadata": {
    "collapsed": true
   },
   "outputs": [],
   "source": [
    "import torch\n",
    "import sbi \n",
    "import sbi.utils as utils\n",
    "from sbi.inference.base import infer\n",
    "\n",
    "#from sbi.inference import SNPE, SNLE, SNRE, prepare_for_sbi\n",
    "#from sbi.utils.get_nn_models import posterior_nn"
   ]
  },
  {
   "cell_type": "code",
   "execution_count": 4,
   "metadata": {},
   "outputs": [
    {
     "name": "stdout",
     "output_type": "stream",
     "text": [
      "Populating the interactive namespace from numpy and matplotlib\n"
     ]
    }
   ],
   "source": [
    "%pylab inline\n",
    "#%matplotlib notebook"
   ]
  },
  {
   "cell_type": "code",
   "execution_count": 5,
   "metadata": {
    "collapsed": true
   },
   "outputs": [],
   "source": [
    "plt.style.use('seaborn-talk');\n",
    "plt.rcParams['font.family'] = 'sans-serif'\n",
    "plt.rcParams['font.sans-serif'] = 'Helvetica'\n",
    "plt.rcParams['axes.edgecolor']='#333F4B'\n",
    "plt.rcParams['axes.linewidth']=0.8\n",
    "plt.rcParams['xtick.color']='#333F4B'\n",
    "plt.rcParams['ytick.color']='#333F4B'"
   ]
  },
  {
   "cell_type": "code",
   "execution_count": 6,
   "metadata": {},
   "outputs": [
    {
     "data": {
      "text/plain": [
       "'/data/SBI/BVEP_SBI'"
      ]
     },
     "execution_count": 6,
     "metadata": {},
     "output_type": "execute_result"
    }
   ],
   "source": [
    "cwd = os.getcwd()\n",
    "cwd"
   ]
  },
  {
   "cell_type": "code",
   "execution_count": 7,
   "metadata": {
    "collapsed": true
   },
   "outputs": [],
   "source": [
    "Res_dir='Res_Epileptor2D_sde_sbi_fitstatsummary_LargeTau'"
   ]
  },
  {
   "cell_type": "markdown",
   "metadata": {},
   "source": [
    "### Simulator"
   ]
  },
  {
   "cell_type": "code",
   "execution_count": 8,
   "metadata": {
    "collapsed": true
   },
   "outputs": [],
   "source": [
    "from Epileptor_Simulator import Epileptor2Dmodel, Epileptor6Dmodel"
   ]
  },
  {
   "cell_type": "code",
   "execution_count": 10,
   "metadata": {
    "collapsed": true
   },
   "outputs": [],
   "source": [
    "def root_fuc(roots, eta):   \n",
    "    xx = np.empty(1)\n",
    "    zz = np.empty(1)\n",
    "    F = np.empty(2)\n",
    "    xx = roots[0]\n",
    "    zz = roots[1]\n",
    "    I1=3.1\n",
    "    F[0] =1.0 - xx**3 - 2.0*xx**2 - zz + I1 \n",
    "    F[1] =4*(xx-eta) - zz\n",
    "    return np.array([F[0], F[1]])\n",
    "######################################################    \n",
    "def nullclines(X,Y, tau, eta):  \n",
    "    I1=3.1\n",
    "    dX =  1.0 - X**3 - 2.0*X**2 - Y + I1 \n",
    "    dY =  4*(X-eta) - Y\n",
    "    plt.contour(X, Y, dX, 0, colors='b', linewidths=(2.,))\n",
    "    plt.contour(X, Y, dY, 0, colors='b', linewidths=(2.,))\n",
    "    \n",
    "    x = np.r_[-5:5:0.01]\n",
    "    z = np.r_[0:10:0.01]\n",
    "    xx, zz = np.meshgrid(x,z)\n",
    "    dx = np.zeros([len(z),len(x)])\n",
    "    dz = np.zeros([len(z),len(x)])\n",
    "\n",
    "    for ii in range(len(z)):\n",
    "        for jj in range(len(x)):\n",
    "            dx[ii,jj] = 1 - x[jj]**3 - 2*x[jj]**2 - z[ii] + I1\n",
    "            dz[ii,jj] = 1/tau*(4*(x[jj] - eta) - z[ii])\n",
    "    plt.streamplot(x,z,dx,dz,density=2.0, color='deepskyblue', linewidth=1.5 , zorder=1) "
   ]
  },
  {
   "cell_type": "code",
   "execution_count": 11,
   "metadata": {
    "collapsed": true
   },
   "outputs": [],
   "source": [
    "# X, Z = mgrid[-5.0:5.0:100j, 0.0:10.0:100j]\n",
    "\n",
    "# rGuess=array([[-1.,3.]])"
   ]
  },
  {
   "cell_type": "code",
   "execution_count": 12,
   "metadata": {
    "collapsed": true
   },
   "outputs": [],
   "source": [
    "# eta_true=-1.5\n",
    "# tau_true=10.\n",
    "# true_roots = fsolve(root_fuc,rGuess, args=(eta_true,))"
   ]
  },
  {
   "cell_type": "code",
   "execution_count": 13,
   "metadata": {},
   "outputs": [],
   "source": [
    "# plt.figure(figsize=(5, 5))\n",
    "# nullclines(X,Z, tau_true, eta_true)\n",
    "# #plt.plot(true_roots[0], true_roots[1] , marker=\"o\", markersize=10, color='k')\n",
    "# plt.scatter(true_roots[0], true_roots[1], s=28, facecolors='k', edgecolors='k', linewidth=2., zorder=3)\n",
    "# plt.xlabel('x'); plt.ylabel('z'); \n",
    "# plt.title('phase-plane')\n",
    "# plt.xlim((-3,2)), plt.ylim((1,6))\n",
    "# plt.show()"
   ]
  },
  {
   "cell_type": "code",
   "execution_count": 14,
   "metadata": {
    "collapsed": true
   },
   "outputs": [],
   "source": [
    "def calculate_summary_statistics(x, params, dt, ts, features):\n",
    "    \"\"\"Calculate summary statistics\n",
    "\n",
    "    Parameters\n",
    "    ----------\n",
    "    x : output of the simulator\n",
    "\n",
    "    Returns\n",
    "    -------\n",
    "    np.array, summary statistics\n",
    "    \"\"\"\n",
    "\n",
    "    params.astype(float)\n",
    "\n",
    "    n_summary = 10\n",
    "\n",
    "    sum_stats_vec = np.concatenate((np.array([np.mean(x)]),\n",
    "                                    np.array([np.std(x)]),\n",
    "                                    np.array([skew(x)]),\n",
    "                                    np.array([kurtosis(x)]),\n",
    "                                    ))\n",
    "\n",
    "    for item in features:\n",
    "\n",
    "          if item is 'seizures_onset':\n",
    "\n",
    "                    # initialise array of seizure counts\n",
    "                    nt=ts.shape[0]\n",
    "                    v=np.zeros(nt)\n",
    "                    v= np.array(x)\n",
    "\n",
    "                    v_th=0\n",
    "                    ind = np.where(v < v_th)\n",
    "                    v[ind] = v_th\n",
    "\n",
    "                    ind = np.where(np.diff(v) < 0)\n",
    "                    v[ind] = v_th\n",
    "\n",
    "                    seizure_times = np.array(ts)[ind]\n",
    "                    seizure_times_stim = seizure_times\n",
    "\n",
    "                    if seizure_times_stim.shape[0] > 0:\n",
    "                            seizure_times_stim = seizure_times_stim[np.append(1, np.diff(seizure_times_stim)) > 0.75]\n",
    "\n",
    "        \n",
    "                    sum_stats_vec = np.concatenate((sum_stats_vec, \n",
    "                                                    np.array([seizure_times_stim.shape[0]]),\n",
    "                                                   ))\n",
    "\n",
    "            \n",
    "          if item is 'fixed_point':\n",
    "                \n",
    "                    rGuess=array([[-1.,3.]])\n",
    "                    true_roots = fsolve(root_fuc,rGuess, args=(params[0],))\n",
    "\n",
    "                    sum_stats_vec = np.concatenate((sum_stats_vec,\n",
    "                                                    true_roots,\n",
    "                                                       ))\n",
    "\n",
    "    sum_stats_vec = sum_stats_vec[0:n_summary]     \n",
    "\n",
    "\n",
    "    return sum_stats_vec\n"
   ]
  },
  {
   "cell_type": "code",
   "execution_count": null,
   "metadata": {
    "collapsed": true
   },
   "outputs": [],
   "source": [
    "def Epileptor2Dmodel_simulator_wrapper(params):\n",
    "\n",
    "    params = np.asarray(params)\n",
    "    \n",
    "    # time step\n",
    "    T = 100.0\n",
    "    dt=0.1\n",
    "    ts = np.arange(0, T + dt, dt)\n",
    "\n",
    "    # fixed parameters\n",
    "    I1=3.1\n",
    "    constants = np.array([I1])\n",
    "    \n",
    "    sigma=1e-1\n",
    "    nt=ts.shape[0]\n",
    "    \n",
    "    states = Epileptor2Dmodel(params, constants, sigma, dt, ts)\n",
    "\n",
    "    summstats = torch.as_tensor(calculate_summary_statistics(states[0:nt], params, dt, ts, features=['seizures_onset']))\n",
    "\n",
    "        \n",
    "    return summstats"
   ]
  },
  {
   "cell_type": "markdown",
   "metadata": {},
   "source": [
    "### sanity check simulations"
   ]
  },
  {
   "cell_type": "code",
   "execution_count": null,
   "metadata": {
    "collapsed": true
   },
   "outputs": [],
   "source": []
  },
  {
   "cell_type": "code",
   "execution_count": null,
   "metadata": {
    "collapsed": true
   },
   "outputs": [],
   "source": []
  },
  {
   "cell_type": "markdown",
   "metadata": {},
   "source": [
    "### 2. Prior over model parameters"
   ]
  },
  {
   "cell_type": "code",
   "execution_count": null,
   "metadata": {
    "collapsed": true
   },
   "outputs": [],
   "source": [
    "prior_min = [-5.0, 0.1, -5.0, 0.0]\n",
    "prior_max = [0.0, 50.0, 0.0, 5.0]\n",
    "prior = utils.torchutils.BoxUniform(low=torch.as_tensor(prior_min), high=torch.as_tensor(prior_max))"
   ]
  },
  {
   "cell_type": "markdown",
   "metadata": {},
   "source": [
    "### 3. Inference"
   ]
  },
  {
   "cell_type": "code",
   "execution_count": null,
   "metadata": {
    "collapsed": true
   },
   "outputs": [],
   "source": [
    "start_time = time.time()\n",
    "\n",
    "posterior = infer(Epileptor2Dmodel_simulator_wrapper, prior, method='SNPE', num_simulations=10000, num_workers=1)\n",
    "\n",
    "print (\"-\"*60)\n",
    "print(\"--- %s seconds ---\" % (time.time() - start_time))"
   ]
  },
  {
   "cell_type": "markdown",
   "metadata": {},
   "source": [
    "### EZ"
   ]
  },
  {
   "cell_type": "code",
   "execution_count": null,
   "metadata": {
    "collapsed": true
   },
   "outputs": [],
   "source": [
    "# true parameters and respective labels\n",
    "labels_params = [r'$\\eta$', r'$\\tau$', r'$x_{init}$', r'$z_{init}$']"
   ]
  },
  {
   "cell_type": "code",
   "execution_count": null,
   "metadata": {
    "collapsed": true
   },
   "outputs": [],
   "source": [
    "true_params = np.array([-1.6, 200., -2.5, 3.5])"
   ]
  },
  {
   "cell_type": "code",
   "execution_count": null,
   "metadata": {
    "collapsed": true
   },
   "outputs": [],
   "source": [
    "y_obs=Epileptor2Dmodel(true_params, constants, sigma, dt, ts)#+sigma*randn(2*ts.shape[0])"
   ]
  },
  {
   "cell_type": "code",
   "execution_count": null,
   "metadata": {
    "collapsed": true
   },
   "outputs": [],
   "source": [
    "x_obs, z_obs=y_obs[0:nt], y_obs[nt:2*nt]"
   ]
  },
  {
   "cell_type": "code",
   "execution_count": null,
   "metadata": {
    "collapsed": true
   },
   "outputs": [],
   "source": [
    "x_obs_summary_statistics=calculate_summary_statistics(x_obs, true_params, dt, ts, features=['seizures_onset', 'fixed_point'])"
   ]
  },
  {
   "cell_type": "code",
   "execution_count": null,
   "metadata": {
    "collapsed": true
   },
   "outputs": [],
   "source": [
    "plt.figure(figsize=(10,4))\n",
    "plt.plot(x_obs)\n",
    "plt.title('observation')\n",
    "plt.ylabel('fast-variable (x)', fontsize=18); \n",
    "plt.xlabel('Time', fontsize=18); \n",
    "plt.xticks(fontsize=16)\n",
    "plt.xticks(fontsize=16)\n",
    "plt.tight_layout();\n",
    "plt.savefig(os.path.join(cwd+'/'+str(Res_dir),\"obs_ez.png\"), doi=800)\n",
    "plt.savefig(os.path.join(cwd+'/'+str(Res_dir),\"obs_ez.eps\"), doi=800)\n",
    "plt.show()"
   ]
  },
  {
   "cell_type": "code",
   "execution_count": null,
   "metadata": {
    "collapsed": true
   },
   "outputs": [],
   "source": [
    "x_obs_summary_statistics"
   ]
  },
  {
   "cell_type": "markdown",
   "metadata": {},
   "source": [
    "### Posterior EZ"
   ]
  },
  {
   "cell_type": "code",
   "execution_count": null,
   "metadata": {
    "collapsed": true
   },
   "outputs": [],
   "source": [
    "num_samples=10000"
   ]
  },
  {
   "cell_type": "code",
   "execution_count": null,
   "metadata": {
    "collapsed": true
   },
   "outputs": [],
   "source": [
    "posterior_samples = posterior.sample((num_samples,), x_obs_summary_statistics).numpy()"
   ]
  },
  {
   "cell_type": "code",
   "execution_count": null,
   "metadata": {
    "collapsed": true
   },
   "outputs": [],
   "source": [
    "np.save(os.path.join(cwd+'/'+str(Res_dir), 'Epileptor2D_sde_sbi_fitstatsummary_ez_posterior_samples.npy') , posterior_samples)"
   ]
  },
  {
   "cell_type": "code",
   "execution_count": null,
   "metadata": {
    "collapsed": true
   },
   "outputs": [],
   "source": [
    "num_params=posterior_samples.shape[1]"
   ]
  },
  {
   "cell_type": "code",
   "execution_count": null,
   "metadata": {
    "collapsed": true
   },
   "outputs": [],
   "source": [
    "plt.figure(figsize=(22,22))\n",
    "\n",
    "for i in range(num_params):\n",
    "    plt.subplot(2*num_params,2,2*i+1)\n",
    "    plt.plot(posterior_samples[:,i], color='blue')\n",
    "    plt.hlines(y=true_params[i], xmin=0., xmax=num_samples, linewidth=2.5, color = 'red', linestyle='--', zorder=5)\n",
    "    plt.xlabel('number of samples',  fontsize=22)\n",
    "    plt.ylabel(labels_params[i],  fontsize=24)\n",
    "    plt.subplot(2*num_params,2,2*i+2)\n",
    "    plt.hist(posterior_samples[:,i], bins=100, color='b')\n",
    "    plt.vlines(x=true_params[i], ymin=0., ymax=200, linewidth=2.5, color = 'r', linestyle='--', zorder=5)\n",
    "    plt.xlabel(r'$parameters$',  fontsize=22)\n",
    "    plt.ylabel('Posterior ('+str(labels_params[i])+')',  fontsize=18)\n",
    "#plt.tight_layout();   \n",
    "plt.savefig(os.path.join(cwd+'/'+str(Res_dir),\"Posterior_obs_ez.png\"), doi=800)\n",
    "plt.savefig(os.path.join(cwd+'/'+str(Res_dir),\"Posterior_obs_ez.eps\"), doi=800)    \n",
    "plt.show()"
   ]
  },
  {
   "cell_type": "code",
   "execution_count": null,
   "metadata": {
    "collapsed": true
   },
   "outputs": [],
   "source": [
    "fig, axes = utils.pairplot(posterior_samples,\n",
    "                           fig_size=(8,8),\n",
    "                           labels=labels_params,\n",
    "                           points=true_params,\n",
    "                           points_offdiag={'markersize': 20},\n",
    "                           points_colors='r');\n",
    "plt.tight_layout();\n",
    "plt.savefig(os.path.join(cwd+'/'+str(Res_dir),\"Posterior_pairplot_obs_ez.png\"), doi=800)\n",
    "plt.savefig(os.path.join(cwd+'/'+str(Res_dir),\"Posterior_pairplot_obs_ez.eps\"), doi=800) \n",
    "plt.show()"
   ]
  },
  {
   "cell_type": "code",
   "execution_count": null,
   "metadata": {
    "collapsed": true
   },
   "outputs": [],
   "source": [
    "fig, axes = utils.pairplot(posterior_samples,\n",
    "                           fig_size=(8,8),\n",
    "                           labels=labels_params,\n",
    "                           upper=['kde'],\n",
    "                           diag=['kde'],\n",
    "                           points=true_params,\n",
    "                           points_offdiag={'markersize': 20},\n",
    "                           points_colors='r');\n",
    "plt.tight_layout();\n",
    "plt.savefig(os.path.join(cwd+'/'+str(Res_dir),\"Posterior_pairplot_kde_obs_ez.png\"), doi=800)\n",
    "plt.savefig(os.path.join(cwd+'/'+str(Res_dir),\"Posterior_pairplot_kde_obs_ez.eps\"), doi=800) \n",
    "plt.show()"
   ]
  },
  {
   "cell_type": "code",
   "execution_count": null,
   "metadata": {
    "collapsed": true
   },
   "outputs": [],
   "source": [
    "y_fit=Epileptor2Dmodel(np.percentile(posterior_samples, [50], axis=0).reshape(-1), constants, sigma, dt, ts)"
   ]
  },
  {
   "cell_type": "code",
   "execution_count": null,
   "metadata": {
    "collapsed": true
   },
   "outputs": [],
   "source": [
    "x_fit, z_fit=y_fit[0:nt], y_fit[nt:2*nt]"
   ]
  },
  {
   "cell_type": "code",
   "execution_count": null,
   "metadata": {
    "collapsed": true
   },
   "outputs": [],
   "source": [
    "np.save(os.path.join(cwd+'/'+str(Res_dir), 'Epileptor2D_sde_sbi_fitstatsummary_ez_y_obs.npy') , y_obs)\n",
    "np.save(os.path.join(cwd+'/'+str(Res_dir), 'Epileptor2D_sde_sbi_fitstatsummary_ez_y_fit.npy') , y_fit)"
   ]
  },
  {
   "cell_type": "code",
   "execution_count": null,
   "metadata": {
    "collapsed": true
   },
   "outputs": [],
   "source": [
    "plt.figure(figsize=(10,4))\n",
    "plt.plot(x_obs, '--o', color='b', markersize=6,  label='obs')\n",
    "plt.plot(x_fit, '-', color='r', lw=2, markersize=4,  label='fit')\n",
    "plt.ylabel('fast-variable (x)', fontsize=24); \n",
    "plt.xlabel('Time', fontsize=24); \n",
    "plt.xticks(fontsize=18)\n",
    "plt.yticks(fontsize=18)\n",
    "plt.legend(loc='upper right')\n",
    "plt.tight_layout();\n",
    "plt.savefig(os.path.join(cwd+'/'+str(Res_dir),\"Fitted_obs_ez.png\"), doi=800)\n",
    "plt.savefig(os.path.join(cwd+'/'+str(Res_dir),\"Fitted_obs_ez.eps\"), doi=800) \n",
    "plt.show()"
   ]
  },
  {
   "cell_type": "code",
   "execution_count": null,
   "metadata": {
    "collapsed": true
   },
   "outputs": [],
   "source": [
    "eta_true=true_params[0]\n",
    "true_roots = fsolve(root_fuc,rGuess, args=(eta_true,))"
   ]
  },
  {
   "cell_type": "code",
   "execution_count": null,
   "metadata": {
    "collapsed": true
   },
   "outputs": [],
   "source": [
    "eta_est=np.mean(posterior_samples[:,0])\n",
    "est_roots = fsolve(root_fuc,rGuess, args=(eta_est,))"
   ]
  },
  {
   "cell_type": "code",
   "execution_count": null,
   "metadata": {
    "collapsed": true
   },
   "outputs": [],
   "source": [
    "plt.figure(figsize=(8,8))\n",
    "plt.plot(x_obs, z_obs, '-o', color='darkred', alpha=1, linewidth=2., zorder=3, label='observation')\n",
    "plt.plot(x_fit, z_fit, color='pink', alpha=1, linewidth=1.5, zorder=3,  label='predicted')\n",
    "nullclines(X,Z,  tau_true, eta_true)\n",
    "#plt.plot(true_roots_ez[0], true_roots_ez[1] , marker=\"o\", markersize=14, color='cyan', label='true fixed point')\n",
    "#plt.plot(est_roots_ez[0], est_roots_ez[1] , marker=\"o\", markersize=14, color='y', label='est fixed point')\n",
    "plt.scatter(true_roots[0],true_roots[1] , s=200, facecolors='none', edgecolors='k', linewidth=1., zorder=4, label='true fixed point') \n",
    "plt.scatter(est_roots[0], est_roots[1] , s=200, facecolors='none', linewidth=1., edgecolors='grey', zorder=5, label='est fixed point') \n",
    "plt.xlabel('fast-variable (x)', fontsize=28); \n",
    "plt.ylabel('slow-variable (z)', fontsize=28); \n",
    "plt.legend(loc='upper right')\n",
    "plt.xticks(fontsize=18)\n",
    "plt.yticks(fontsize=18)\n",
    "plt.axis([-3, 1.5, 1.5, 5.5])\n",
    "plt.tight_layout();\n",
    "plt.savefig(os.path.join(cwd+'/'+str(Res_dir),\"Fitted_phaseplane_obs_ez.png\"), doi=800)\n",
    "plt.savefig(os.path.join(cwd+'/'+str(Res_dir),\"Fitted_phaseplane_obs_ez.eps\"), doi=800) \n",
    "plt.show()"
   ]
  },
  {
   "cell_type": "markdown",
   "metadata": {},
   "source": [
    "### PZ"
   ]
  },
  {
   "cell_type": "code",
   "execution_count": null,
   "metadata": {
    "collapsed": true
   },
   "outputs": [],
   "source": [
    "true_params = np.array([-2.1, 10., -2.5, 3.5])"
   ]
  },
  {
   "cell_type": "code",
   "execution_count": null,
   "metadata": {
    "collapsed": true
   },
   "outputs": [],
   "source": [
    "y_obs=Epileptor2Dmodel(true_params, constants, sigma, dt, ts)#+sigma*randn(2*ts.shape[0])"
   ]
  },
  {
   "cell_type": "code",
   "execution_count": null,
   "metadata": {
    "collapsed": true
   },
   "outputs": [],
   "source": [
    "x_obs, z_obs=y_obs[0:nt], y_obs[nt:2*nt]"
   ]
  },
  {
   "cell_type": "code",
   "execution_count": null,
   "metadata": {
    "collapsed": true
   },
   "outputs": [],
   "source": [
    "x_obs_summary_statistics=calculate_summary_statistics(x_obs, true_params, dt, ts, features=['seizures_onset', 'fixed_point'])"
   ]
  },
  {
   "cell_type": "code",
   "execution_count": null,
   "metadata": {
    "collapsed": true
   },
   "outputs": [],
   "source": [
    "plt.figure(figsize=(10,4))\n",
    "plt.plot(x_obs)\n",
    "plt.title('observation')\n",
    "plt.ylabel('fast-variable (x)', fontsize=18); \n",
    "plt.xlabel('Time', fontsize=18); \n",
    "plt.xticks(fontsize=16)\n",
    "plt.xticks(fontsize=16)\n",
    "plt.tight_layout();\n",
    "plt.savefig(os.path.join(cwd+'/'+str(Res_dir),\"obs_pz.png\"), doi=800)\n",
    "plt.savefig(os.path.join(cwd+'/'+str(Res_dir),\"obs_pz.eps\"), doi=800)\n",
    "plt.show()"
   ]
  },
  {
   "cell_type": "code",
   "execution_count": null,
   "metadata": {
    "collapsed": true
   },
   "outputs": [],
   "source": [
    "x_obs_summary_statistics"
   ]
  },
  {
   "cell_type": "markdown",
   "metadata": {},
   "source": [
    "### Posterior PZ"
   ]
  },
  {
   "cell_type": "code",
   "execution_count": null,
   "metadata": {
    "collapsed": true
   },
   "outputs": [],
   "source": [
    "num_samples=10000"
   ]
  },
  {
   "cell_type": "code",
   "execution_count": null,
   "metadata": {
    "collapsed": true
   },
   "outputs": [],
   "source": [
    "posterior_samples = posterior.sample((num_samples,), x_obs_summary_statistics).numpy()"
   ]
  },
  {
   "cell_type": "code",
   "execution_count": null,
   "metadata": {
    "collapsed": true
   },
   "outputs": [],
   "source": [
    "np.save(os.path.join(cwd+'/'+str(Res_dir), 'Epileptor2D_sde_sbi_fitstatsummary_pz_posterior_samples.npy') , posterior_samples)"
   ]
  },
  {
   "cell_type": "code",
   "execution_count": null,
   "metadata": {
    "collapsed": true
   },
   "outputs": [],
   "source": [
    "num_params=posterior_samples.shape[1]"
   ]
  },
  {
   "cell_type": "code",
   "execution_count": null,
   "metadata": {
    "collapsed": true
   },
   "outputs": [],
   "source": [
    "plt.figure(figsize=(22,22))\n",
    "\n",
    "for i in range(num_params):\n",
    "    plt.subplot(2*num_params,2,2*i+1)\n",
    "    plt.plot(posterior_samples[:,i], color='blue')\n",
    "    plt.hlines(y=true_params[i], xmin=0., xmax=num_samples, linewidth=2.5, color = 'red', linestyle='--', zorder=5)\n",
    "    plt.xlabel('number of samples',  fontsize=22)\n",
    "    plt.ylabel(labels_params[i],  fontsize=24)\n",
    "    plt.subplot(2*num_params,2,2*i+2)\n",
    "    plt.hist(posterior_samples[:,i], bins=100, color='b')\n",
    "    plt.vlines(x=true_params[i], ymin=0., ymax=200, linewidth=2.5, color = 'r', linestyle='--', zorder=5)\n",
    "    plt.xlabel(r'$parameters$',  fontsize=22)\n",
    "    plt.ylabel('Posterior ('+str(labels_params[i])+')',  fontsize=18)\n",
    "#plt.tight_layout();   \n",
    "plt.savefig(os.path.join(cwd+'/'+str(Res_dir),\"Posterior_obs_pz.png\"), doi=800)\n",
    "plt.savefig(os.path.join(cwd+'/'+str(Res_dir),\"Posterior_obs_pz.eps\"), doi=800)    \n",
    "plt.show()"
   ]
  },
  {
   "cell_type": "code",
   "execution_count": null,
   "metadata": {
    "collapsed": true
   },
   "outputs": [],
   "source": [
    "fig, axes = utils.pairplot(posterior_samples,\n",
    "                           fig_size=(8,8),\n",
    "                           labels=labels_params,\n",
    "                           points=true_params,\n",
    "                           points_offdiag={'markersize': 20},\n",
    "                           points_colors='r');\n",
    "plt.tight_layout();\n",
    "plt.savefig(os.path.join(cwd+'/'+str(Res_dir),\"Posterior_pairplot_obs_pz.png\"), doi=800)\n",
    "plt.savefig(os.path.join(cwd+'/'+str(Res_dir),\"Posterior_pairplot_obs_pz.eps\"), doi=800) \n",
    "plt.show()"
   ]
  },
  {
   "cell_type": "code",
   "execution_count": null,
   "metadata": {
    "collapsed": true
   },
   "outputs": [],
   "source": [
    "fig, axes = utils.pairplot(posterior_samples,\n",
    "                           fig_size=(8,8),\n",
    "                           labels=labels_params,\n",
    "                           upper=['kde'],\n",
    "                           diag=['kde'],\n",
    "                           points=true_params,\n",
    "                           points_offdiag={'markersize': 20},\n",
    "                           points_colors='r');\n",
    "plt.tight_layout();\n",
    "plt.savefig(os.path.join(cwd+'/'+str(Res_dir),\"Posterior_pairplot_kde_obs_pz.png\"), doi=800)\n",
    "plt.savefig(os.path.join(cwd+'/'+str(Res_dir),\"Posterior_pairplot_kde_obs_pz.eps\"), doi=800) \n",
    "plt.show()"
   ]
  },
  {
   "cell_type": "code",
   "execution_count": null,
   "metadata": {
    "collapsed": true
   },
   "outputs": [],
   "source": [
    "y_fit=Epileptor2Dmodel(np.percentile(posterior_samples, [50], axis=0).reshape(-1), constants, sigma, dt, ts)"
   ]
  },
  {
   "cell_type": "code",
   "execution_count": null,
   "metadata": {
    "collapsed": true
   },
   "outputs": [],
   "source": [
    "x_fit, z_fit=y_fit[0:nt], y_fit[nt:2*nt]"
   ]
  },
  {
   "cell_type": "code",
   "execution_count": null,
   "metadata": {
    "collapsed": true
   },
   "outputs": [],
   "source": [
    "np.save(os.path.join(cwd+'/'+str(Res_dir), 'Epileptor2D_sde_sbi_fitstatsummary_pz_y_obs.npy') , y_obs)\n",
    "np.save(os.path.join(cwd+'/'+str(Res_dir), 'Epileptor2D_sde_sbi_fitstatsummary_pz_y_fit.npy') , y_fit)"
   ]
  },
  {
   "cell_type": "code",
   "execution_count": null,
   "metadata": {
    "collapsed": true
   },
   "outputs": [],
   "source": [
    "plt.figure(figsize=(10,4))\n",
    "plt.plot(x_obs, '--o', color='b', markersize=6,  label='obs')\n",
    "plt.plot(x_fit, '-', color='r', lw=2, markersize=4,  label='fit')\n",
    "plt.ylabel('fast-variable (x)', fontsize=24); \n",
    "plt.xlabel('Time', fontsize=24); \n",
    "plt.xticks(fontsize=18)\n",
    "plt.yticks(fontsize=18)\n",
    "plt.legend(loc='upper right')\n",
    "plt.tight_layout();\n",
    "plt.savefig(os.path.join(cwd+'/'+str(Res_dir),\"Fitted_obs_pz.png\"), doi=800)\n",
    "plt.savefig(os.path.join(cwd+'/'+str(Res_dir),\"Fitted_obs_pz.eps\"), doi=800) \n",
    "plt.show()"
   ]
  },
  {
   "cell_type": "code",
   "execution_count": null,
   "metadata": {
    "collapsed": true
   },
   "outputs": [],
   "source": [
    "eta_true=true_params[0]\n",
    "true_roots = fsolve(root_fuc,rGuess, args=(eta_true,))"
   ]
  },
  {
   "cell_type": "code",
   "execution_count": null,
   "metadata": {
    "collapsed": true
   },
   "outputs": [],
   "source": [
    "eta_est=np.mean(posterior_samples[:,0])\n",
    "est_roots = fsolve(root_fuc,rGuess, args=(eta_est,))"
   ]
  },
  {
   "cell_type": "code",
   "execution_count": null,
   "metadata": {
    "collapsed": true
   },
   "outputs": [],
   "source": [
    "plt.figure(figsize=(8,8))\n",
    "plt.plot(x_obs, z_obs, '-o', color='darkgoldenrod', alpha=1, linewidth=2., zorder=3, label='observation')\n",
    "plt.plot(x_fit, z_fit, color='gold', alpha=1, linewidth=1.5, zorder=3,  label='predicted')\n",
    "nullclines(X,Z,  tau_true, eta_true)\n",
    "plt.scatter(true_roots[0],true_roots[1] , s=200, facecolors='none', edgecolors='k', linewidth=1., zorder=4, label='true fixed point') \n",
    "plt.scatter(est_roots[0], est_roots[1] , s=200, facecolors='none', linewidth=1., edgecolors='grey', zorder=5, label='est fixed point') \n",
    "plt.xlabel('fast-variable (x)', fontsize=28); \n",
    "plt.ylabel('slow-variable (z)', fontsize=28); \n",
    "plt.legend(loc='upper right')\n",
    "plt.xticks(fontsize=18)\n",
    "plt.yticks(fontsize=18)\n",
    "plt.axis([-3, 1.5, 1.5, 5.5])\n",
    "plt.tight_layout();\n",
    "plt.savefig(os.path.join(cwd+'/'+str(Res_dir),\"Fitted_phaseplane_obs_pz.png\"), doi=800)\n",
    "plt.savefig(os.path.join(cwd+'/'+str(Res_dir),\"Fitted_phaseplane_obs_p1.eps\"), doi=800) \n",
    "plt.show()"
   ]
  },
  {
   "cell_type": "markdown",
   "metadata": {},
   "source": [
    "### HZ"
   ]
  },
  {
   "cell_type": "code",
   "execution_count": null,
   "metadata": {
    "collapsed": true
   },
   "outputs": [],
   "source": [
    "true_params = np.array([-3., 10., -2.5, 3.5])"
   ]
  },
  {
   "cell_type": "code",
   "execution_count": null,
   "metadata": {
    "collapsed": true
   },
   "outputs": [],
   "source": [
    "y_obs=Epileptor2Dmodel(true_params, constants, sigma, dt, ts)#+sigma*randn(2*ts.shape[0])"
   ]
  },
  {
   "cell_type": "code",
   "execution_count": null,
   "metadata": {
    "collapsed": true
   },
   "outputs": [],
   "source": [
    "x_obs, z_obs=y_obs[0:nt], y_obs[nt:2*nt]"
   ]
  },
  {
   "cell_type": "code",
   "execution_count": null,
   "metadata": {
    "collapsed": true
   },
   "outputs": [],
   "source": [
    "x_obs_summary_statistics=calculate_summary_statistics(x_obs, true_params, dt, ts, features=['seizures_onset', 'fixed_point'])"
   ]
  },
  {
   "cell_type": "code",
   "execution_count": null,
   "metadata": {
    "collapsed": true
   },
   "outputs": [],
   "source": [
    "plt.figure(figsize=(10,4))\n",
    "plt.plot(x_obs)\n",
    "plt.title('observation')\n",
    "plt.ylabel('fast-variable (x)', fontsize=18); \n",
    "plt.xlabel('Time', fontsize=18); \n",
    "plt.xticks(fontsize=16)\n",
    "plt.xticks(fontsize=16)\n",
    "plt.tight_layout();\n",
    "plt.savefig(os.path.join(cwd+'/'+str(Res_dir),\"obs_hz.png\"), doi=800)\n",
    "plt.savefig(os.path.join(cwd+'/'+str(Res_dir),\"obs_hz.eps\"), doi=800)\n",
    "plt.show()"
   ]
  },
  {
   "cell_type": "code",
   "execution_count": null,
   "metadata": {
    "collapsed": true
   },
   "outputs": [],
   "source": [
    "x_obs_summary_statistics"
   ]
  },
  {
   "cell_type": "markdown",
   "metadata": {},
   "source": [
    "### Posterior HZ"
   ]
  },
  {
   "cell_type": "code",
   "execution_count": null,
   "metadata": {
    "collapsed": true
   },
   "outputs": [],
   "source": [
    "num_samples=10000"
   ]
  },
  {
   "cell_type": "code",
   "execution_count": null,
   "metadata": {
    "collapsed": true
   },
   "outputs": [],
   "source": [
    "posterior_samples = posterior.sample((num_samples,), x_obs_summary_statistics).numpy()"
   ]
  },
  {
   "cell_type": "code",
   "execution_count": null,
   "metadata": {
    "collapsed": true
   },
   "outputs": [],
   "source": [
    "np.save(os.path.join(cwd+'/'+str(Res_dir), 'Epileptor2D_sde_sbi_fitstatsummary_hz_posterior_samples.npy') , posterior_samples)"
   ]
  },
  {
   "cell_type": "code",
   "execution_count": null,
   "metadata": {
    "collapsed": true
   },
   "outputs": [],
   "source": [
    "num_params=posterior_samples.shape[1]"
   ]
  },
  {
   "cell_type": "code",
   "execution_count": null,
   "metadata": {
    "collapsed": true
   },
   "outputs": [],
   "source": [
    "plt.figure(figsize=(22,22))\n",
    "\n",
    "for i in range(num_params):\n",
    "    plt.subplot(2*num_params,2,2*i+1)\n",
    "    plt.plot(posterior_samples[:,i], color='blue')\n",
    "    plt.hlines(y=true_params[i], xmin=0., xmax=num_samples, linewidth=2.5, color = 'red', linestyle='--', zorder=5)\n",
    "    plt.xlabel('number of samples',  fontsize=22)\n",
    "    plt.ylabel(labels_params[i],  fontsize=24)\n",
    "    plt.subplot(2*num_params,2,2*i+2)\n",
    "    plt.hist(posterior_samples[:,i], bins=100, color='b')\n",
    "    plt.vlines(x=true_params[i], ymin=0., ymax=200, linewidth=2.5, color = 'r', linestyle='--', zorder=5)\n",
    "    plt.xlabel(r'$parameters$',  fontsize=22)\n",
    "    plt.ylabel('Posterior ('+str(labels_params[i])+')',  fontsize=18)\n",
    "#plt.tight_layout();   \n",
    "plt.savefig(os.path.join(cwd+'/'+str(Res_dir),\"Posterior_obs_hz.png\"), doi=800)\n",
    "plt.savefig(os.path.join(cwd+'/'+str(Res_dir),\"Posterior_obs_hz.eps\"), doi=800)    \n",
    "plt.show()"
   ]
  },
  {
   "cell_type": "code",
   "execution_count": null,
   "metadata": {
    "collapsed": true
   },
   "outputs": [],
   "source": [
    "fig, axes = utils.pairplot(posterior_samples,\n",
    "                           fig_size=(8,8),\n",
    "                           labels=labels_params,\n",
    "                           points=true_params,\n",
    "                           points_offdiag={'markersize': 20},\n",
    "                           points_colors='r');\n",
    "plt.tight_layout();\n",
    "plt.savefig(os.path.join(cwd+'/'+str(Res_dir),\"Posterior_pairplot_obs_hz.png\"), doi=800)\n",
    "plt.savefig(os.path.join(cwd+'/'+str(Res_dir),\"Posterior_pairplot_obs_hz.eps\"), doi=800) \n",
    "plt.show()"
   ]
  },
  {
   "cell_type": "code",
   "execution_count": null,
   "metadata": {
    "collapsed": true
   },
   "outputs": [],
   "source": [
    "fig, axes = utils.pairplot(posterior_samples,\n",
    "                           fig_size=(8,8),\n",
    "                           labels=labels_params,\n",
    "                           upper=['kde'],\n",
    "                           diag=['kde'],\n",
    "                           points=true_params,\n",
    "                           points_offdiag={'markersize': 20},\n",
    "                           points_colors='r');\n",
    "plt.tight_layout();\n",
    "plt.savefig(os.path.join(cwd+'/'+str(Res_dir),\"Posterior_pairplot_kde_obs_hz.png\"), doi=800)\n",
    "plt.savefig(os.path.join(cwd+'/'+str(Res_dir),\"Posterior_pairplot_kde_obs_hz.eps\"), doi=800) \n",
    "plt.show()"
   ]
  },
  {
   "cell_type": "code",
   "execution_count": null,
   "metadata": {
    "collapsed": true
   },
   "outputs": [],
   "source": [
    "y_fit=Epileptor2Dmodel(np.percentile(posterior_samples, [50], axis=0).reshape(-1), constants, sigma, dt, ts)"
   ]
  },
  {
   "cell_type": "code",
   "execution_count": null,
   "metadata": {
    "collapsed": true
   },
   "outputs": [],
   "source": [
    "x_fit, z_fit=y_fit[0:nt], y_fit[nt:2*nt]"
   ]
  },
  {
   "cell_type": "code",
   "execution_count": null,
   "metadata": {
    "collapsed": true
   },
   "outputs": [],
   "source": [
    "np.save(os.path.join(cwd+'/'+str(Res_dir), 'Epileptor2D_sde_sbi_fitstatsummary_hz_y_obs.npy') , y_obs)\n",
    "np.save(os.path.join(cwd+'/'+str(Res_dir), 'Epileptor2D_sde_sbi_fitstatsummary_hz_y_fit.npy') , y_fit)"
   ]
  },
  {
   "cell_type": "code",
   "execution_count": null,
   "metadata": {
    "collapsed": true
   },
   "outputs": [],
   "source": [
    "plt.figure(figsize=(10,4))\n",
    "plt.plot(x_obs, '--o', color='b', markersize=6,  label='obs')\n",
    "plt.plot(x_fit, '-', color='r', lw=2, markersize=4,  label='fit')\n",
    "plt.ylabel('fast-variable (x)', fontsize=24); \n",
    "plt.xlabel('Time', fontsize=24); \n",
    "plt.xticks(fontsize=18)\n",
    "plt.yticks(fontsize=18)\n",
    "plt.legend(loc='upper right')\n",
    "plt.tight_layout();\n",
    "plt.savefig(os.path.join(cwd+'/'+str(Res_dir),\"Fitted_obs_hz.png\"), doi=800)\n",
    "plt.savefig(os.path.join(cwd+'/'+str(Res_dir),\"Fitted_obs_hz.eps\"), doi=800) \n",
    "plt.show()"
   ]
  },
  {
   "cell_type": "code",
   "execution_count": null,
   "metadata": {
    "collapsed": true
   },
   "outputs": [],
   "source": [
    "eta_true=true_params[0]\n",
    "true_roots = fsolve(root_fuc,rGuess, args=(eta_true,))"
   ]
  },
  {
   "cell_type": "code",
   "execution_count": null,
   "metadata": {
    "collapsed": true
   },
   "outputs": [],
   "source": [
    "eta_est=np.mean(posterior_samples[:,0])\n",
    "est_roots = fsolve(root_fuc,rGuess, args=(eta_est,))"
   ]
  },
  {
   "cell_type": "code",
   "execution_count": null,
   "metadata": {
    "collapsed": true
   },
   "outputs": [],
   "source": [
    "plt.figure(figsize=(8,8))\n",
    "plt.plot(x_obs, z_obs, '-o', color='darkgreen', alpha=1, linewidth=2., zorder=3, label='observation')\n",
    "plt.plot(x_fit, z_fit, color='springgreen', alpha=1., linewidth=1.5, zorder=3,  label='predicted')\n",
    "nullclines(X,Z,  tau_true, eta_true)\n",
    "plt.scatter(true_roots[0],true_roots[1] , s=200, facecolors='k', edgecolors='k', linewidth=1., zorder=4, label='true fixed point') \n",
    "plt.scatter(est_roots[0], est_roots[1] , s=200, facecolors='grey', linewidth=1., edgecolors='grey', zorder=5, label='est fixed point') \n",
    "plt.xlabel('fast-variable (x)', fontsize=28); \n",
    "plt.ylabel('slow-variable (z)', fontsize=28); \n",
    "plt.legend(loc='upper right')\n",
    "plt.xticks(fontsize=18)\n",
    "plt.yticks(fontsize=18)\n",
    "plt.axis([-3, 1.5, 1.5, 6.])\n",
    "plt.tight_layout();\n",
    "plt.savefig(os.path.join(cwd+'/'+str(Res_dir),\"Fitted_phaseplane_obs_hz.png\"), doi=800)\n",
    "plt.savefig(os.path.join(cwd+'/'+str(Res_dir),\"Fitted_phaseplane_obs_hz.eps\"), doi=800) \n",
    "plt.show()"
   ]
  }
 ],
 "metadata": {
  "kernelspec": {
   "display_name": "Python 3",
   "language": "python",
   "name": "python3"
  },
  "language_info": {
   "codemirror_mode": {
    "name": "ipython",
    "version": 3
   },
   "file_extension": ".py",
   "mimetype": "text/x-python",
   "name": "python",
   "nbconvert_exporter": "python",
   "pygments_lexer": "ipython3",
   "version": "3.6.7"
  }
 },
 "nbformat": 4,
 "nbformat_minor": 4
}
